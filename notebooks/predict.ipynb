{
 "cells": [
  {
   "cell_type": "code",
   "execution_count": 26,
   "id": "08562a54",
   "metadata": {},
   "outputs": [],
   "source": [
    "import sys\n",
    "import numpy as np\n",
    "import pandas as pd\n",
    "import pickle\n",
    "\n",
    "sys.path.append('../')\n",
    "\n",
    "from config.paths import RAW_DATA_PATH, ARTIFACTS_PATH, MODELS_PATH\n",
    "\n",
    "from utils.files_management import load_model, load_netflix_data\n",
    "from utils.data_processing import convert_columns_to_string, filter_unseen\n"
   ]
  },
  {
   "cell_type": "code",
   "execution_count": 27,
   "id": "8d46ae45",
   "metadata": {},
   "outputs": [
    {
     "name": "stdout",
     "output_type": "stream",
     "text": [
      "[INFO] Loaded 2,817,131 rows from /Users/robertogarces/data-science/projects/netflix/data/raw/qualifying.txt\n",
      "   movie_id  customer_id       date\n",
      "0         1      1046323 2005-12-19\n",
      "1         1      1080030 2005-12-23\n",
      "2         1      1830096 2005-03-14\n",
      "3         1       368059 2005-05-26\n",
      "4         1       802003 2005-11-07\n"
     ]
    }
   ],
   "source": [
    "# Load test data\n",
    "data_path = RAW_DATA_PATH / \"qualifying.txt\"\n",
    "save_path = RAW_DATA_PATH / \"qualifying_df.csv\"\n",
    "df = load_netflix_data(\n",
    "    file_path=data_path,\n",
    "    has_ratings=False,\n",
    "    verbose=True\n",
    "    )"
   ]
  },
  {
   "cell_type": "code",
   "execution_count": 28,
   "id": "695fb549",
   "metadata": {},
   "outputs": [],
   "source": [
    "movie_titles_path = RAW_DATA_PATH / \"movie_titles_fixed.csv\"\n",
    "movie_titles = pd.read_csv(movie_titles_path, sep=';', encoding='latin1', header=None, names=['id', 'year', 'title'])"
   ]
  },
  {
   "cell_type": "code",
   "execution_count": 30,
   "id": "8d7515e2",
   "metadata": {},
   "outputs": [],
   "source": [
    "# Process the dataset\n",
    "df = convert_columns_to_string(df, ['customer_id', 'movie_id'])"
   ]
  },
  {
   "cell_type": "code",
   "execution_count": 31,
   "id": "e9459289",
   "metadata": {},
   "outputs": [],
   "source": [
    "# Open the files that includes the IDs for the valid users and movies\n",
    "with open(ARTIFACTS_PATH / \"valid_users.pkl\", \"rb\") as f:\n",
    "    valid_users = pickle.load(f)\n",
    "\n",
    "with open(ARTIFACTS_PATH / \"valid_movies.pkl\", \"rb\") as f:\n",
    "    valid_movies = pickle.load(f)"
   ]
  },
  {
   "cell_type": "code",
   "execution_count": 32,
   "id": "a33fe83b",
   "metadata": {},
   "outputs": [
    {
     "name": "stdout",
     "output_type": "stream",
     "text": [
      "[INFO] Dropped 43966 rows with unknown users or movies.\n"
     ]
    }
   ],
   "source": [
    "df = filter_unseen(df, valid_users=valid_users, valid_movies=valid_movies)"
   ]
  },
  {
   "cell_type": "markdown",
   "id": "c940b818",
   "metadata": {},
   "source": [
    "# Predictions"
   ]
  },
  {
   "cell_type": "code",
   "execution_count": 33,
   "id": "517e576a",
   "metadata": {},
   "outputs": [],
   "source": [
    "model = load_model(MODELS_PATH / \"svd_model.pkl\")"
   ]
  },
  {
   "cell_type": "code",
   "execution_count": 34,
   "id": "7308efb3",
   "metadata": {},
   "outputs": [],
   "source": [
    "predictions = []\n",
    "\n",
    "for _, row in df.iterrows():\n",
    "    uid = str(row['customer_id'])  # surprise requiere strings\n",
    "    iid = str(row['movie_id'])\n",
    "\n",
    "    pred = model.predict(uid, iid)\n",
    "    predictions.append(pred.est)  # valor predicho de la calificación\n",
    "\n",
    "df[\"pred_rating\"] = predictions"
   ]
  },
  {
   "cell_type": "code",
   "execution_count": 40,
   "id": "0e5d1792",
   "metadata": {},
   "outputs": [],
   "source": [
    "movie_titles['id'] = movie_titles['id'].astype(str)"
   ]
  },
  {
   "cell_type": "code",
   "execution_count": 41,
   "id": "ac9e0630",
   "metadata": {},
   "outputs": [],
   "source": [
    "final_df = pd.merge(df, movie_titles, how='left', left_on='movie_id', right_on='id')"
   ]
  },
  {
   "cell_type": "code",
   "execution_count": 42,
   "id": "4d3b9fd1",
   "metadata": {},
   "outputs": [
    {
     "data": {
      "text/html": [
       "<div>\n",
       "<style scoped>\n",
       "    .dataframe tbody tr th:only-of-type {\n",
       "        vertical-align: middle;\n",
       "    }\n",
       "\n",
       "    .dataframe tbody tr th {\n",
       "        vertical-align: top;\n",
       "    }\n",
       "\n",
       "    .dataframe thead th {\n",
       "        text-align: right;\n",
       "    }\n",
       "</style>\n",
       "<table border=\"1\" class=\"dataframe\">\n",
       "  <thead>\n",
       "    <tr style=\"text-align: right;\">\n",
       "      <th></th>\n",
       "      <th>movie_id</th>\n",
       "      <th>customer_id</th>\n",
       "      <th>date</th>\n",
       "      <th>pred_rating</th>\n",
       "      <th>id</th>\n",
       "      <th>year</th>\n",
       "      <th>title</th>\n",
       "    </tr>\n",
       "  </thead>\n",
       "  <tbody>\n",
       "    <tr>\n",
       "      <th>0</th>\n",
       "      <td>1</td>\n",
       "      <td>1046323</td>\n",
       "      <td>2005-12-19</td>\n",
       "      <td>3.775027</td>\n",
       "      <td>1</td>\n",
       "      <td>2003.0</td>\n",
       "      <td>Dinosaur Planet</td>\n",
       "    </tr>\n",
       "    <tr>\n",
       "      <th>1</th>\n",
       "      <td>1</td>\n",
       "      <td>1080030</td>\n",
       "      <td>2005-12-23</td>\n",
       "      <td>3.681262</td>\n",
       "      <td>1</td>\n",
       "      <td>2003.0</td>\n",
       "      <td>Dinosaur Planet</td>\n",
       "    </tr>\n",
       "    <tr>\n",
       "      <th>2</th>\n",
       "      <td>1</td>\n",
       "      <td>1830096</td>\n",
       "      <td>2005-03-14</td>\n",
       "      <td>4.019554</td>\n",
       "      <td>1</td>\n",
       "      <td>2003.0</td>\n",
       "      <td>Dinosaur Planet</td>\n",
       "    </tr>\n",
       "    <tr>\n",
       "      <th>3</th>\n",
       "      <td>1</td>\n",
       "      <td>368059</td>\n",
       "      <td>2005-05-26</td>\n",
       "      <td>3.765078</td>\n",
       "      <td>1</td>\n",
       "      <td>2003.0</td>\n",
       "      <td>Dinosaur Planet</td>\n",
       "    </tr>\n",
       "    <tr>\n",
       "      <th>4</th>\n",
       "      <td>1</td>\n",
       "      <td>802003</td>\n",
       "      <td>2005-11-07</td>\n",
       "      <td>3.765078</td>\n",
       "      <td>1</td>\n",
       "      <td>2003.0</td>\n",
       "      <td>Dinosaur Planet</td>\n",
       "    </tr>\n",
       "    <tr>\n",
       "      <th>...</th>\n",
       "      <td>...</td>\n",
       "      <td>...</td>\n",
       "      <td>...</td>\n",
       "      <td>...</td>\n",
       "      <td>...</td>\n",
       "      <td>...</td>\n",
       "      <td>...</td>\n",
       "    </tr>\n",
       "    <tr>\n",
       "      <th>2773160</th>\n",
       "      <td>9998</td>\n",
       "      <td>1521720</td>\n",
       "      <td>2005-12-07</td>\n",
       "      <td>3.451368</td>\n",
       "      <td>9998</td>\n",
       "      <td>1995.0</td>\n",
       "      <td>The Show</td>\n",
       "    </tr>\n",
       "    <tr>\n",
       "      <th>2773161</th>\n",
       "      <td>9998</td>\n",
       "      <td>1363704</td>\n",
       "      <td>2005-10-01</td>\n",
       "      <td>3.689404</td>\n",
       "      <td>9998</td>\n",
       "      <td>1995.0</td>\n",
       "      <td>The Show</td>\n",
       "    </tr>\n",
       "    <tr>\n",
       "      <th>2773162</th>\n",
       "      <td>9999</td>\n",
       "      <td>2153561</td>\n",
       "      <td>2005-11-15</td>\n",
       "      <td>3.389409</td>\n",
       "      <td>9999</td>\n",
       "      <td>1986.0</td>\n",
       "      <td>Breeders</td>\n",
       "    </tr>\n",
       "    <tr>\n",
       "      <th>2773163</th>\n",
       "      <td>9999</td>\n",
       "      <td>1490137</td>\n",
       "      <td>2005-12-22</td>\n",
       "      <td>3.796265</td>\n",
       "      <td>9999</td>\n",
       "      <td>1986.0</td>\n",
       "      <td>Breeders</td>\n",
       "    </tr>\n",
       "    <tr>\n",
       "      <th>2773164</th>\n",
       "      <td>9999</td>\n",
       "      <td>2268620</td>\n",
       "      <td>2005-11-17</td>\n",
       "      <td>3.415903</td>\n",
       "      <td>9999</td>\n",
       "      <td>1986.0</td>\n",
       "      <td>Breeders</td>\n",
       "    </tr>\n",
       "  </tbody>\n",
       "</table>\n",
       "<p>2773165 rows × 7 columns</p>\n",
       "</div>"
      ],
      "text/plain": [
       "        movie_id customer_id       date  pred_rating    id    year  \\\n",
       "0              1     1046323 2005-12-19     3.775027     1  2003.0   \n",
       "1              1     1080030 2005-12-23     3.681262     1  2003.0   \n",
       "2              1     1830096 2005-03-14     4.019554     1  2003.0   \n",
       "3              1      368059 2005-05-26     3.765078     1  2003.0   \n",
       "4              1      802003 2005-11-07     3.765078     1  2003.0   \n",
       "...          ...         ...        ...          ...   ...     ...   \n",
       "2773160     9998     1521720 2005-12-07     3.451368  9998  1995.0   \n",
       "2773161     9998     1363704 2005-10-01     3.689404  9998  1995.0   \n",
       "2773162     9999     2153561 2005-11-15     3.389409  9999  1986.0   \n",
       "2773163     9999     1490137 2005-12-22     3.796265  9999  1986.0   \n",
       "2773164     9999     2268620 2005-11-17     3.415903  9999  1986.0   \n",
       "\n",
       "                   title  \n",
       "0        Dinosaur Planet  \n",
       "1        Dinosaur Planet  \n",
       "2        Dinosaur Planet  \n",
       "3        Dinosaur Planet  \n",
       "4        Dinosaur Planet  \n",
       "...                  ...  \n",
       "2773160         The Show  \n",
       "2773161         The Show  \n",
       "2773162         Breeders  \n",
       "2773163         Breeders  \n",
       "2773164         Breeders  \n",
       "\n",
       "[2773165 rows x 7 columns]"
      ]
     },
     "execution_count": 42,
     "metadata": {},
     "output_type": "execute_result"
    }
   ],
   "source": [
    "final_df"
   ]
  },
  {
   "cell_type": "code",
   "execution_count": null,
   "id": "5dfb16ab",
   "metadata": {},
   "outputs": [],
   "source": []
  },
  {
   "cell_type": "code",
   "execution_count": null,
   "id": "eeb3bf2c",
   "metadata": {},
   "outputs": [],
   "source": []
  },
  {
   "cell_type": "code",
   "execution_count": null,
   "id": "cdcb66c2",
   "metadata": {},
   "outputs": [],
   "source": []
  }
 ],
 "metadata": {
  "kernelspec": {
   "display_name": "netflix",
   "language": "python",
   "name": "python3"
  },
  "language_info": {
   "codemirror_mode": {
    "name": "ipython",
    "version": 3
   },
   "file_extension": ".py",
   "mimetype": "text/x-python",
   "name": "python",
   "nbconvert_exporter": "python",
   "pygments_lexer": "ipython3",
   "version": "3.10.16"
  }
 },
 "nbformat": 4,
 "nbformat_minor": 5
}
