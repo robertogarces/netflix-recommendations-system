{
 "cells": [
  {
   "cell_type": "code",
   "execution_count": null,
   "id": "804eb824",
   "metadata": {},
   "outputs": [],
   "source": [
    "import sys\n",
    "import numpy as np\n",
    "import pandas as pd\n",
    "sys.path.append('../')\n",
    "\n",
    "from config.paths import RAW_DATA_PATH\n",
    "from utils.files_management import fix_csv_with_commas_in_text, load_netflix_data, load_multiple_netflix_files\n",
    "from utils.filters import filter_sparse_users_and_movies, filter_valid_ratings\n",
    "from utils.data_split import temporal_train_test_split"
   ]
  },
  {
   "cell_type": "code",
   "execution_count": 2,
   "id": "c3f77a3b",
   "metadata": {},
   "outputs": [],
   "source": [
    "combined_data_1_path = RAW_DATA_PATH / \"combined_data_1.txt\"\n",
    "combined_data_2_path = RAW_DATA_PATH / \"combined_data_2.txt\"\n",
    "combined_data_3_path = RAW_DATA_PATH / \"combined_data_3.txt\"\n",
    "combined_data_4_path = RAW_DATA_PATH / \"combined_data_4.txt\"\n",
    "\n",
    "combined_data_path_list = [combined_data_1_path, combined_data_2_path, combined_data_3_path, combined_data_4_path]\n",
    "\n",
    "concatenated_data = RAW_DATA_PATH / \"data.parquet\"\n",
    "\n",
    "movie_titles_path = RAW_DATA_PATH / \"movie_titles.csv\"\n",
    "movie_titles_fixed_path = RAW_DATA_PATH / \"movie_titles_fixed.csv\"\n"
   ]
  },
  {
   "cell_type": "code",
   "execution_count": 3,
   "id": "2b43ad05",
   "metadata": {},
   "outputs": [],
   "source": [
    "#df = load_multiple_netflix_files(\n",
    "#    file_paths=combined_data_path_list,\n",
    "#    save_path=concatenated_data,\n",
    "#    verbose=False\n",
    "#)\n",
    "\n",
    "df = pd.read_parquet(concatenated_data)"
   ]
  },
  {
   "cell_type": "code",
   "execution_count": 4,
   "id": "2eee5075",
   "metadata": {},
   "outputs": [],
   "source": [
    "#fix_csv_with_commas_in_text(movie_titles_path, movie_titles_fixed_path)\n",
    "movie_titles = pd.read_csv(movie_titles_fixed_path, sep=';', encoding='latin1', header=None, names=['id', 'year', 'title'])"
   ]
  },
  {
   "cell_type": "code",
   "execution_count": 5,
   "id": "3ed61a07",
   "metadata": {},
   "outputs": [
    {
     "data": {
      "text/html": [
       "<div>\n",
       "<style scoped>\n",
       "    .dataframe tbody tr th:only-of-type {\n",
       "        vertical-align: middle;\n",
       "    }\n",
       "\n",
       "    .dataframe tbody tr th {\n",
       "        vertical-align: top;\n",
       "    }\n",
       "\n",
       "    .dataframe thead th {\n",
       "        text-align: right;\n",
       "    }\n",
       "</style>\n",
       "<table border=\"1\" class=\"dataframe\">\n",
       "  <thead>\n",
       "    <tr style=\"text-align: right;\">\n",
       "      <th></th>\n",
       "      <th>movie_id</th>\n",
       "      <th>customer_id</th>\n",
       "      <th>rating</th>\n",
       "      <th>date</th>\n",
       "    </tr>\n",
       "  </thead>\n",
       "  <tbody>\n",
       "    <tr>\n",
       "      <th>0</th>\n",
       "      <td>1</td>\n",
       "      <td>1488844</td>\n",
       "      <td>3.0</td>\n",
       "      <td>2005-09-06</td>\n",
       "    </tr>\n",
       "    <tr>\n",
       "      <th>1</th>\n",
       "      <td>1</td>\n",
       "      <td>822109</td>\n",
       "      <td>5.0</td>\n",
       "      <td>2005-05-13</td>\n",
       "    </tr>\n",
       "    <tr>\n",
       "      <th>2</th>\n",
       "      <td>1</td>\n",
       "      <td>885013</td>\n",
       "      <td>4.0</td>\n",
       "      <td>2005-10-19</td>\n",
       "    </tr>\n",
       "    <tr>\n",
       "      <th>3</th>\n",
       "      <td>1</td>\n",
       "      <td>30878</td>\n",
       "      <td>4.0</td>\n",
       "      <td>2005-12-26</td>\n",
       "    </tr>\n",
       "    <tr>\n",
       "      <th>4</th>\n",
       "      <td>1</td>\n",
       "      <td>823519</td>\n",
       "      <td>3.0</td>\n",
       "      <td>2004-05-03</td>\n",
       "    </tr>\n",
       "  </tbody>\n",
       "</table>\n",
       "</div>"
      ],
      "text/plain": [
       "   movie_id  customer_id  rating       date\n",
       "0         1      1488844     3.0 2005-09-06\n",
       "1         1       822109     5.0 2005-05-13\n",
       "2         1       885013     4.0 2005-10-19\n",
       "3         1        30878     4.0 2005-12-26\n",
       "4         1       823519     3.0 2004-05-03"
      ]
     },
     "execution_count": 5,
     "metadata": {},
     "output_type": "execute_result"
    }
   ],
   "source": [
    "df.head()"
   ]
  },
  {
   "cell_type": "code",
   "execution_count": 6,
   "id": "5927e111",
   "metadata": {},
   "outputs": [
    {
     "data": {
      "text/plain": [
       "movie_id                int64\n",
       "customer_id             int64\n",
       "rating                float64\n",
       "date           datetime64[ns]\n",
       "dtype: object"
      ]
     },
     "execution_count": 6,
     "metadata": {},
     "output_type": "execute_result"
    }
   ],
   "source": [
    "df.dtypes"
   ]
  },
  {
   "cell_type": "code",
   "execution_count": 7,
   "id": "6a1527a9",
   "metadata": {},
   "outputs": [
    {
     "data": {
      "text/plain": [
       "movie_id       0.0\n",
       "customer_id    0.0\n",
       "rating         0.0\n",
       "date           0.0\n",
       "dtype: float64"
      ]
     },
     "execution_count": 7,
     "metadata": {},
     "output_type": "execute_result"
    }
   ],
   "source": [
    "df.isna().mean()"
   ]
  },
  {
   "cell_type": "markdown",
   "id": "988417a6",
   "metadata": {},
   "source": [
    "# Preprocessing"
   ]
  },
  {
   "cell_type": "code",
   "execution_count": 8,
   "id": "8a7a9eb7",
   "metadata": {},
   "outputs": [],
   "source": [
    "df['customer_id'] = np.array(df['customer_id'], dtype=str)\n",
    "df['movie_id'] = np.array(df['movie_id'], dtype=str)\n"
   ]
  },
  {
   "cell_type": "code",
   "execution_count": 9,
   "id": "19a124aa",
   "metadata": {},
   "outputs": [],
   "source": [
    "# All the ratings are suposed to be in between 1-5\n",
    "min_rating = 1\n",
    "max_rating = 5\n",
    "df = filter_valid_ratings(df, min_rating=min_rating, max_rating=max_rating)"
   ]
  },
  {
   "cell_type": "code",
   "execution_count": null,
   "id": "9a10463e",
   "metadata": {},
   "outputs": [],
   "source": [
    "min_movie_ratings = 50\n",
    "min_user_ratings = 10\n",
    "df_filtered = filter_sparse_users_and_movies(df, min_movie_ratings=min_movie_ratings, min_user_ratings=min_user_ratings)"
   ]
  },
  {
   "cell_type": "markdown",
   "id": "9a57a9b2",
   "metadata": {},
   "source": [
    "# EDA"
   ]
  },
  {
   "cell_type": "markdown",
   "id": "8da5e6c3",
   "metadata": {},
   "source": [
    "#### Distribution of ratings"
   ]
  },
  {
   "cell_type": "code",
   "execution_count": null,
   "id": "b03f76c7",
   "metadata": {},
   "outputs": [],
   "source": [
    "import matplotlib.pyplot as plt\n",
    "\n",
    "# Tu serie con proporciones\n",
    "rating_dist = df['rating'].value_counts(normalize=True).sort_index()\n",
    "\n",
    "plt.figure(figsize=(8,5))\n",
    "plt.bar(rating_dist.index, rating_dist.values, color='skyblue')\n",
    "plt.xlabel('Rating')\n",
    "plt.ylabel('Proportion')\n",
    "plt.title('Distribution of Ratings')\n",
    "plt.xticks(rating_dist.index)  # para mostrar todos los valores del eje x\n",
    "plt.show()"
   ]
  },
  {
   "cell_type": "code",
   "execution_count": null,
   "id": "21862e55",
   "metadata": {},
   "outputs": [],
   "source": [
    "print(f\"Number of distinct movies: {df['movie_id'].nunique()}\")\n",
    "print(f\"Number of distinct users:  {df['customer_id'].nunique()}\")"
   ]
  },
  {
   "cell_type": "code",
   "execution_count": null,
   "id": "ac21c55b",
   "metadata": {},
   "outputs": [],
   "source": [
    "ratings_per_movie = df.groupby('movie_id')['rating'].count()\n",
    "ratings_per_movie.describe()"
   ]
  },
  {
   "cell_type": "code",
   "execution_count": null,
   "id": "673a2f5b",
   "metadata": {},
   "outputs": [],
   "source": [
    "avg_rating_per_movie = df.groupby('movie_id')['rating'].mean()\n",
    "best_rated_movies = avg_rating_per_movie.sort_values(ascending=False).head(10)\n",
    "worst_rated_movies = avg_rating_per_movie.sort_values().head(10)\n",
    "print(f\"Best rated movies: \\n{best_rated_movies}\")\n",
    "print(f\"\\Worst rated movies: \\n{worst_rated_movies}\")"
   ]
  },
  {
   "cell_type": "code",
   "execution_count": null,
   "id": "bfafbd5e",
   "metadata": {},
   "outputs": [],
   "source": [
    "most_rated_movies = ratings_per_movie.sort_values(ascending=False).head(10)\n",
    "least_rated_movies = ratings_per_movie.sort_values().head(10)\n",
    "print(f\"Most rated movies: \\n{most_rated_movies}\")\n",
    "print(f\"\\nLeast rated movies: \\n{least_rated_movies}\")"
   ]
  },
  {
   "cell_type": "markdown",
   "id": "16a0112b",
   "metadata": {},
   "source": [
    "# Train Test Split"
   ]
  },
  {
   "cell_type": "code",
   "execution_count": null,
   "id": "fd9edc43",
   "metadata": {},
   "outputs": [],
   "source": [
    "test_size = 0.2\n",
    "train_df, test_df = temporal_train_test_split(df, test_size=test_size)"
   ]
  },
  {
   "cell_type": "markdown",
   "id": "e5672c27",
   "metadata": {},
   "source": [
    "# Preprocess train dataset"
   ]
  },
  {
   "cell_type": "code",
   "execution_count": null,
   "id": "d918c94f",
   "metadata": {},
   "outputs": [],
   "source": [
    "from surprise import Dataset, Reader, SVD\n",
    "from surprise.model_selection import train_test_split\n",
    "from surprise import accuracy\n",
    "\n",
    "# 1. Define el formato de los datos\n",
    "reader = Reader(rating_scale=(1, 5))\n",
    "data = Dataset.load_from_df(train_df[['customer_id', 'movie_id', 'rating']], reader)\n",
    "\n",
    "# 2. Divide en train/test (aquí podrías usar tu test original también)\n",
    "trainset = data.build_full_trainset()\n",
    "testset = list(zip(test_df['customer_id'], test_df['movie_id'], test_df['rating']))\n",
    "\n",
    "# 3. Entrena el modelo\n",
    "model = SVD()\n",
    "model.fit(trainset)\n",
    "\n",
    "# 4. Evalúa\n",
    "predictions = model.test(testset)\n",
    "rmse = accuracy.rmse(predictions)\n"
   ]
  },
  {
   "cell_type": "code",
   "execution_count": null,
   "id": "cedf6d5e",
   "metadata": {},
   "outputs": [],
   "source": []
  }
 ],
 "metadata": {
  "kernelspec": {
   "display_name": "netflix",
   "language": "python",
   "name": "python3"
  },
  "language_info": {
   "codemirror_mode": {
    "name": "ipython",
    "version": 3
   },
   "file_extension": ".py",
   "mimetype": "text/x-python",
   "name": "python",
   "nbconvert_exporter": "python",
   "pygments_lexer": "ipython3",
   "version": "3.10.16"
  }
 },
 "nbformat": 4,
 "nbformat_minor": 5
}
