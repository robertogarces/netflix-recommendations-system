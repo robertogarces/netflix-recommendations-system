{
 "cells": [
  {
   "cell_type": "code",
   "execution_count": null,
   "id": "804eb824",
   "metadata": {},
   "outputs": [],
   "source": [
    "import sys\n",
    "import numpy as np\n",
    "import pandas as pd\n",
    "sys.path.append('../')\n",
    "\n",
    "from config.paths import RAW_DATA_PATH, PROCESSED_DATA_PATH\n",
    "from utils.files_management import fix_csv_with_commas_in_text, load_netflix_data, load_multiple_netflix_files\n",
    "from utils.data_processing import filter_sparse_users_and_movies, filter_valid_ratings, convert_columns_to_string\n",
    "from utils.data_split import temporal_train_test_split"
   ]
  },
  {
   "cell_type": "code",
   "execution_count": null,
   "id": "c3f77a3b",
   "metadata": {},
   "outputs": [],
   "source": [
    "combined_data_1_path = RAW_DATA_PATH / \"combined_data_1.txt\"\n",
    "combined_data_2_path = RAW_DATA_PATH / \"combined_data_2.txt\"\n",
    "combined_data_3_path = RAW_DATA_PATH / \"combined_data_3.txt\"\n",
    "combined_data_4_path = RAW_DATA_PATH / \"combined_data_4.txt\"\n",
    "\n",
    "combined_data_path_list = [combined_data_1_path, combined_data_2_path, combined_data_3_path, combined_data_4_path]\n",
    "\n",
    "concatenated_data = RAW_DATA_PATH / \"data.parquet\"\n",
    "\n",
    "movie_titles_path = RAW_DATA_PATH / \"movie_titles.csv\"\n",
    "movie_titles_fixed_path = RAW_DATA_PATH / \"movie_titles_fixed.csv\"\n"
   ]
  },
  {
   "cell_type": "code",
   "execution_count": null,
   "id": "2b43ad05",
   "metadata": {},
   "outputs": [],
   "source": [
    "#df = load_multiple_netflix_files(\n",
    "#    file_paths=combined_data_path_list,\n",
    "#    save_path=concatenated_data,\n",
    "#    verbose=False\n",
    "#)\n",
    "\n",
    "df = pd.read_parquet(concatenated_data)"
   ]
  },
  {
   "cell_type": "code",
   "execution_count": null,
   "id": "2eee5075",
   "metadata": {},
   "outputs": [],
   "source": [
    "#fix_csv_with_commas_in_text(movie_titles_path, movie_titles_fixed_path)\n",
    "movie_titles = pd.read_csv(movie_titles_fixed_path, sep=';', encoding='latin1', header=None, names=['id', 'year', 'title'])"
   ]
  },
  {
   "cell_type": "code",
   "execution_count": null,
   "id": "3ed61a07",
   "metadata": {},
   "outputs": [],
   "source": [
    "df.head()"
   ]
  },
  {
   "cell_type": "code",
   "execution_count": null,
   "id": "5927e111",
   "metadata": {},
   "outputs": [],
   "source": [
    "df.dtypes"
   ]
  },
  {
   "cell_type": "code",
   "execution_count": null,
   "id": "6a1527a9",
   "metadata": {},
   "outputs": [],
   "source": [
    "df.isna().mean()"
   ]
  },
  {
   "cell_type": "markdown",
   "id": "988417a6",
   "metadata": {},
   "source": [
    "# Preprocessing"
   ]
  },
  {
   "cell_type": "code",
   "execution_count": null,
   "id": "065265cc",
   "metadata": {},
   "outputs": [],
   "source": [
    "df = convert_columns_to_string(df, ['customer_id', 'movie_id'])"
   ]
  },
  {
   "cell_type": "code",
   "execution_count": null,
   "id": "19a124aa",
   "metadata": {},
   "outputs": [],
   "source": [
    "# All the ratings are suposed to be in between 1-5\n",
    "min_rating = 1\n",
    "max_rating = 5\n",
    "df = filter_valid_ratings(df, min_rating=min_rating, max_rating=max_rating)"
   ]
  },
  {
   "cell_type": "code",
   "execution_count": null,
   "id": "9a10463e",
   "metadata": {},
   "outputs": [],
   "source": [
    "min_movie_ratings = 50\n",
    "min_user_ratings = 10\n",
    "df = filter_sparse_users_and_movies(df, min_movie_ratings=min_movie_ratings, min_user_ratings=min_user_ratings)"
   ]
  },
  {
   "cell_type": "code",
   "execution_count": null,
   "id": "0379fd32",
   "metadata": {},
   "outputs": [],
   "source": [
    "processed_data_path = PROCESSED_DATA_PATH / \"processed_data.parquet\"\n",
    "df.to_parquet(processed_data_path)"
   ]
  },
  {
   "cell_type": "markdown",
   "id": "9a57a9b2",
   "metadata": {},
   "source": [
    "# EDA"
   ]
  },
  {
   "cell_type": "markdown",
   "id": "8da5e6c3",
   "metadata": {},
   "source": [
    "#### Distribution of ratings"
   ]
  },
  {
   "cell_type": "code",
   "execution_count": null,
   "id": "b03f76c7",
   "metadata": {},
   "outputs": [],
   "source": [
    "import matplotlib.pyplot as plt\n",
    "\n",
    "# Tu serie con proporciones\n",
    "rating_dist = df['rating'].value_counts(normalize=True).sort_index()\n",
    "\n",
    "plt.figure(figsize=(8,5))\n",
    "plt.bar(rating_dist.index, rating_dist.values, color='skyblue')\n",
    "plt.xlabel('Rating')\n",
    "plt.ylabel('Proportion')\n",
    "plt.title('Distribution of Ratings')\n",
    "plt.xticks(rating_dist.index)  # para mostrar todos los valores del eje x\n",
    "plt.show()"
   ]
  },
  {
   "cell_type": "code",
   "execution_count": null,
   "id": "21862e55",
   "metadata": {},
   "outputs": [],
   "source": [
    "print(f\"Number of distinct movies: {df['movie_id'].nunique()}\")\n",
    "print(f\"Number of distinct users:  {df['customer_id'].nunique()}\")"
   ]
  },
  {
   "cell_type": "code",
   "execution_count": null,
   "id": "ac21c55b",
   "metadata": {},
   "outputs": [],
   "source": [
    "ratings_per_movie = df.groupby('movie_id')['rating'].count()\n",
    "ratings_per_movie.describe()"
   ]
  },
  {
   "cell_type": "code",
   "execution_count": null,
   "id": "673a2f5b",
   "metadata": {},
   "outputs": [],
   "source": [
    "avg_rating_per_movie = df.groupby('movie_id')['rating'].mean()\n",
    "best_rated_movies = avg_rating_per_movie.sort_values(ascending=False).head(10)\n",
    "worst_rated_movies = avg_rating_per_movie.sort_values().head(10)\n",
    "print(f\"Best rated movies: \\n{best_rated_movies}\")\n",
    "print(f\"\\Worst rated movies: \\n{worst_rated_movies}\")"
   ]
  },
  {
   "cell_type": "code",
   "execution_count": null,
   "id": "bfafbd5e",
   "metadata": {},
   "outputs": [],
   "source": [
    "most_rated_movies = ratings_per_movie.sort_values(ascending=False).head(10)\n",
    "least_rated_movies = ratings_per_movie.sort_values().head(10)\n",
    "print(f\"Most rated movies: \\n{most_rated_movies}\")\n",
    "print(f\"\\nLeast rated movies: \\n{least_rated_movies}\")"
   ]
  },
  {
   "cell_type": "code",
   "execution_count": null,
   "id": "cedf6d5e",
   "metadata": {},
   "outputs": [],
   "source": []
  }
 ],
 "metadata": {
  "kernelspec": {
   "display_name": "netflix",
   "language": "python",
   "name": "python3"
  },
  "language_info": {
   "codemirror_mode": {
    "name": "ipython",
    "version": 3
   },
   "file_extension": ".py",
   "mimetype": "text/x-python",
   "name": "python",
   "nbconvert_exporter": "python",
   "pygments_lexer": "ipython3",
   "version": "3.10.16"
  }
 },
 "nbformat": 4,
 "nbformat_minor": 5
}
