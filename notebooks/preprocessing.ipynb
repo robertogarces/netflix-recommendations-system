{
 "cells": [
  {
   "cell_type": "code",
   "execution_count": 1,
   "id": "804eb824",
   "metadata": {},
   "outputs": [],
   "source": [
    "import sys\n",
    "import numpy as np\n",
    "import pandas as pd\n",
    "sys.path.append('../')\n",
    "\n",
    "from config.paths import RAW_DATA_PATH, PROCESSED_DATA_PATH\n",
    "from utils.files_management import fix_csv_with_commas_in_text, load_netflix_data, load_multiple_netflix_files\n",
    "from utils.data_processing import filter_sparse_users_and_movies, filter_valid_ratings, convert_columns_to_string\n",
    "from utils.data_split import temporal_train_test_split"
   ]
  },
  {
   "cell_type": "code",
   "execution_count": 2,
   "id": "c3f77a3b",
   "metadata": {},
   "outputs": [],
   "source": [
    "combined_data_1_path = RAW_DATA_PATH / \"combined_data_1.txt\"\n",
    "combined_data_2_path = RAW_DATA_PATH / \"combined_data_2.txt\"\n",
    "combined_data_3_path = RAW_DATA_PATH / \"combined_data_3.txt\"\n",
    "combined_data_4_path = RAW_DATA_PATH / \"combined_data_4.txt\"\n",
    "\n",
    "combined_data_path_list = [combined_data_1_path, combined_data_2_path, combined_data_3_path, combined_data_4_path]\n",
    "\n",
    "concatenated_data = RAW_DATA_PATH / \"data.parquet\"\n",
    "\n",
    "movie_titles_path = RAW_DATA_PATH / \"movie_titles.csv\"\n",
    "movie_titles_fixed_path = RAW_DATA_PATH / \"movie_titles_fixed.csv\"\n"
   ]
  },
  {
   "cell_type": "code",
   "execution_count": 3,
   "id": "2b43ad05",
   "metadata": {},
   "outputs": [],
   "source": [
    "#df = load_multiple_netflix_files(\n",
    "#    file_paths=combined_data_path_list,\n",
    "#    save_path=concatenated_data,\n",
    "#    verbose=False\n",
    "#)\n",
    "\n",
    "df = pd.read_parquet(concatenated_data)"
   ]
  },
  {
   "cell_type": "code",
   "execution_count": 4,
   "id": "2eee5075",
   "metadata": {},
   "outputs": [],
   "source": [
    "#fix_csv_with_commas_in_text(movie_titles_path, movie_titles_fixed_path)\n",
    "movie_titles = pd.read_csv(movie_titles_fixed_path, sep=';', encoding='latin1', header=None, names=['id', 'year', 'title'])"
   ]
  },
  {
   "cell_type": "code",
   "execution_count": 5,
   "id": "3ed61a07",
   "metadata": {},
   "outputs": [
    {
     "data": {
      "text/html": [
       "<div>\n",
       "<style scoped>\n",
       "    .dataframe tbody tr th:only-of-type {\n",
       "        vertical-align: middle;\n",
       "    }\n",
       "\n",
       "    .dataframe tbody tr th {\n",
       "        vertical-align: top;\n",
       "    }\n",
       "\n",
       "    .dataframe thead th {\n",
       "        text-align: right;\n",
       "    }\n",
       "</style>\n",
       "<table border=\"1\" class=\"dataframe\">\n",
       "  <thead>\n",
       "    <tr style=\"text-align: right;\">\n",
       "      <th></th>\n",
       "      <th>movie_id</th>\n",
       "      <th>customer_id</th>\n",
       "      <th>rating</th>\n",
       "      <th>date</th>\n",
       "    </tr>\n",
       "  </thead>\n",
       "  <tbody>\n",
       "    <tr>\n",
       "      <th>0</th>\n",
       "      <td>1</td>\n",
       "      <td>1488844</td>\n",
       "      <td>3.0</td>\n",
       "      <td>2005-09-06</td>\n",
       "    </tr>\n",
       "    <tr>\n",
       "      <th>1</th>\n",
       "      <td>1</td>\n",
       "      <td>822109</td>\n",
       "      <td>5.0</td>\n",
       "      <td>2005-05-13</td>\n",
       "    </tr>\n",
       "    <tr>\n",
       "      <th>2</th>\n",
       "      <td>1</td>\n",
       "      <td>885013</td>\n",
       "      <td>4.0</td>\n",
       "      <td>2005-10-19</td>\n",
       "    </tr>\n",
       "    <tr>\n",
       "      <th>3</th>\n",
       "      <td>1</td>\n",
       "      <td>30878</td>\n",
       "      <td>4.0</td>\n",
       "      <td>2005-12-26</td>\n",
       "    </tr>\n",
       "    <tr>\n",
       "      <th>4</th>\n",
       "      <td>1</td>\n",
       "      <td>823519</td>\n",
       "      <td>3.0</td>\n",
       "      <td>2004-05-03</td>\n",
       "    </tr>\n",
       "  </tbody>\n",
       "</table>\n",
       "</div>"
      ],
      "text/plain": [
       "   movie_id  customer_id  rating       date\n",
       "0         1      1488844     3.0 2005-09-06\n",
       "1         1       822109     5.0 2005-05-13\n",
       "2         1       885013     4.0 2005-10-19\n",
       "3         1        30878     4.0 2005-12-26\n",
       "4         1       823519     3.0 2004-05-03"
      ]
     },
     "execution_count": 5,
     "metadata": {},
     "output_type": "execute_result"
    }
   ],
   "source": [
    "df.head()"
   ]
  },
  {
   "cell_type": "code",
   "execution_count": 6,
   "id": "5927e111",
   "metadata": {},
   "outputs": [
    {
     "data": {
      "text/plain": [
       "movie_id                int64\n",
       "customer_id             int64\n",
       "rating                float64\n",
       "date           datetime64[ns]\n",
       "dtype: object"
      ]
     },
     "execution_count": 6,
     "metadata": {},
     "output_type": "execute_result"
    }
   ],
   "source": [
    "df.dtypes"
   ]
  },
  {
   "cell_type": "code",
   "execution_count": 7,
   "id": "6a1527a9",
   "metadata": {},
   "outputs": [
    {
     "data": {
      "text/plain": [
       "movie_id       0.0\n",
       "customer_id    0.0\n",
       "rating         0.0\n",
       "date           0.0\n",
       "dtype: float64"
      ]
     },
     "execution_count": 7,
     "metadata": {},
     "output_type": "execute_result"
    }
   ],
   "source": [
    "df.isna().mean()"
   ]
  },
  {
   "cell_type": "markdown",
   "id": "988417a6",
   "metadata": {},
   "source": [
    "# Preprocessing"
   ]
  },
  {
   "cell_type": "code",
   "execution_count": 8,
   "id": "065265cc",
   "metadata": {},
   "outputs": [],
   "source": [
    "df = convert_columns_to_string(df, ['customer_id', 'movie_id'])"
   ]
  },
  {
   "cell_type": "code",
   "execution_count": 9,
   "id": "19a124aa",
   "metadata": {},
   "outputs": [],
   "source": [
    "# All the ratings are suposed to be in between 1-5\n",
    "min_rating = 1\n",
    "max_rating = 5\n",
    "df = filter_valid_ratings(df, min_rating=min_rating, max_rating=max_rating)"
   ]
  },
  {
   "cell_type": "code",
   "execution_count": null,
   "id": "9a10463e",
   "metadata": {},
   "outputs": [],
   "source": [
    "min_movie_ratings = 50\n",
    "min_user_ratings = 10\n",
    "df = filter_sparse_users_and_movies(df, min_movie_ratings=min_movie_ratings, min_user_ratings=min_user_ratings)"
   ]
  },
  {
   "cell_type": "code",
   "execution_count": null,
   "id": "0379fd32",
   "metadata": {},
   "outputs": [],
   "source": [
    "processed_data_path = PROCESSED_DATA_PATH / \"processed_data.parquet\"\n",
    "df.to_parquet(processed_data_path)"
   ]
  },
  {
   "cell_type": "code",
   "execution_count": null,
   "id": "cedf6d5e",
   "metadata": {},
   "outputs": [],
   "source": []
  },
  {
   "cell_type": "code",
   "execution_count": null,
   "id": "ff1c4ad4",
   "metadata": {},
   "outputs": [],
   "source": []
  }
 ],
 "metadata": {
  "kernelspec": {
   "display_name": "netflix",
   "language": "python",
   "name": "python3"
  },
  "language_info": {
   "codemirror_mode": {
    "name": "ipython",
    "version": 3
   },
   "file_extension": ".py",
   "mimetype": "text/x-python",
   "name": "python",
   "nbconvert_exporter": "python",
   "pygments_lexer": "ipython3",
   "version": "3.10.16"
  }
 },
 "nbformat": 4,
 "nbformat_minor": 5
}
