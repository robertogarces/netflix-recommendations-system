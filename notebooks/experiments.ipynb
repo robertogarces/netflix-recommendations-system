{
 "cells": [
  {
   "cell_type": "code",
   "execution_count": 9,
   "id": "934f9175",
   "metadata": {},
   "outputs": [],
   "source": [
    "import sys\n",
    "import numpy as np\n",
    "import pandas as pd\n",
    "sys.path.append('../')\n",
    "\n",
    "from config.paths import PROCESSED_DATA_PATH, CONFIG_PATH\n",
    "\n",
    "from utils.data_split import temporal_train_test_split\n",
    "from utils.metrics import get_top_n, precision_recall_at_k\n",
    "from utils.config_loader import load_config\n",
    "\n",
    "from surprise import Dataset, Reader, SVD\n",
    "from surprise.model_selection import train_test_split\n",
    "from surprise import accuracy"
   ]
  },
  {
   "cell_type": "markdown",
   "id": "184478c0",
   "metadata": {},
   "source": [
    "# Load config and data"
   ]
  },
  {
   "cell_type": "code",
   "execution_count": 10,
   "id": "f55f3a86",
   "metadata": {},
   "outputs": [],
   "source": [
    "# Load config\n",
    "config = load_config(CONFIG_PATH / \"settings.yaml\")\n",
    "model_cfg = config[\"model\"]\n",
    "model_features_cfg = config[\"model_features\"]\n",
    "preproc_cfg = config[\"preprocessing\"]\n",
    "svd_hyperparams = config[\"svd_hyperparams\"]"
   ]
  },
  {
   "cell_type": "code",
   "execution_count": 11,
   "id": "4cb5b0e5",
   "metadata": {},
   "outputs": [
    {
     "name": "stdout",
     "output_type": "stream",
     "text": [
      "Using 25.0% of samples (25098582 rows)\n"
     ]
    }
   ],
   "source": [
    "processed_data_path = PROCESSED_DATA_PATH / \"processed_data.parquet\"\n",
    "df = pd.read_parquet(processed_data_path)\n",
    "df = df.iloc[:int(len(df)*model_cfg['data_sample_fraction'])]\n",
    "print(f\"Using {model_cfg['data_sample_fraction']*100}% of samples ({len(df)} rows)\")"
   ]
  },
  {
   "cell_type": "markdown",
   "id": "8d9948e2",
   "metadata": {},
   "source": [
    "# Split train and test"
   ]
  },
  {
   "cell_type": "code",
   "execution_count": 12,
   "id": "757428e4",
   "metadata": {},
   "outputs": [],
   "source": [
    "#train_df, test_df = temporal_train_test_split(df, test_size=model_cfg['test_size'])"
   ]
  },
  {
   "cell_type": "markdown",
   "id": "8006500b",
   "metadata": {},
   "source": [
    "# Model experiments"
   ]
  },
  {
   "cell_type": "code",
   "execution_count": 13,
   "id": "d9c19613",
   "metadata": {},
   "outputs": [
    {
     "name": "stdout",
     "output_type": "stream",
     "text": [
      "RMSE: 1.0005\n"
     ]
    }
   ],
   "source": [
    "import pandas as pd\n",
    "import lightgbm as lgb\n",
    "from sklearn.model_selection import train_test_split\n",
    "from sklearn.preprocessing import LabelEncoder\n",
    "from sklearn.metrics import mean_squared_error\n",
    "\n",
    "\n",
    "# Codificar user_id y movie_id\n",
    "user_enc = LabelEncoder()\n",
    "item_enc = LabelEncoder()\n",
    "df[\"user_idx\"] = user_enc.fit_transform(df[\"customer_id\"])\n",
    "df[\"item_idx\"] = item_enc.fit_transform(df[\"movie_id\"])\n",
    "\n",
    "# Dividir en train/test\n",
    "train, test = train_test_split(df, test_size=0.2, random_state=42)\n",
    "\n",
    "# Features y target\n",
    "X_train = train[[\"user_idx\", \"item_idx\"]]\n",
    "X_test = test[[\"user_idx\", \"item_idx\"]]\n",
    "y_train = train[\"rating\"]\n",
    "y_test = test[\"rating\"]\n",
    "\n",
    "# Convertir a categorias (LightGBM puede usar esto directamente)\n",
    "X_train = X_train.astype(\"category\")\n",
    "X_test = X_test.astype(\"category\")\n",
    "\n",
    "# Crear dataset de LightGBM\n",
    "train_data = lgb.Dataset(X_train, label=y_train)\n",
    "valid_data = lgb.Dataset(X_test, label=y_test)\n",
    "\n",
    "# Entrenar el modelo\n",
    "params = {\n",
    "    \"objective\": \"regression\",\n",
    "    \"metric\": \"rmse\",\n",
    "    \"verbosity\": -1,\n",
    "    \"boosting_type\": \"gbdt\",\n",
    "    \"learning_rate\": 0.1,\n",
    "    \"num_leaves\": 31\n",
    "}\n",
    "\n",
    "model = lgb.train(\n",
    "    params,\n",
    "    train_data,\n",
    "    valid_sets=[train_data, valid_data],\n",
    "    num_boost_round=100,\n",
    ")\n",
    "\n",
    "# Predicción y evaluación\n",
    "y_pred = model.predict(X_test)\n",
    "mse = mean_squared_error(y_test, y_pred)\n",
    "rmse = np.sqrt(mse)\n",
    "print(f\"RMSE: {rmse:.4f}\")"
   ]
  },
  {
   "cell_type": "code",
   "execution_count": null,
   "id": "1a1196e4",
   "metadata": {},
   "outputs": [],
   "source": []
  },
  {
   "cell_type": "code",
   "execution_count": null,
   "id": "1ba1e4b6",
   "metadata": {},
   "outputs": [],
   "source": []
  },
  {
   "cell_type": "code",
   "execution_count": null,
   "id": "94d350ce",
   "metadata": {},
   "outputs": [],
   "source": []
  },
  {
   "cell_type": "code",
   "execution_count": null,
   "id": "0346fb9c",
   "metadata": {},
   "outputs": [],
   "source": []
  },
  {
   "cell_type": "code",
   "execution_count": null,
   "id": "e72852a9",
   "metadata": {},
   "outputs": [],
   "source": []
  },
  {
   "cell_type": "code",
   "execution_count": null,
   "id": "75732872",
   "metadata": {},
   "outputs": [],
   "source": []
  },
  {
   "cell_type": "code",
   "execution_count": null,
   "id": "aca05060",
   "metadata": {},
   "outputs": [],
   "source": []
  },
  {
   "cell_type": "code",
   "execution_count": null,
   "id": "fef0e068",
   "metadata": {},
   "outputs": [],
   "source": []
  },
  {
   "cell_type": "code",
   "execution_count": null,
   "id": "2ab84161",
   "metadata": {},
   "outputs": [],
   "source": []
  },
  {
   "cell_type": "code",
   "execution_count": null,
   "id": "627a6053",
   "metadata": {},
   "outputs": [],
   "source": []
  },
  {
   "cell_type": "code",
   "execution_count": null,
   "id": "dbce12ba",
   "metadata": {},
   "outputs": [],
   "source": []
  },
  {
   "cell_type": "code",
   "execution_count": null,
   "id": "6df38741",
   "metadata": {},
   "outputs": [],
   "source": []
  },
  {
   "cell_type": "code",
   "execution_count": null,
   "id": "f50d86b0",
   "metadata": {},
   "outputs": [],
   "source": []
  },
  {
   "cell_type": "code",
   "execution_count": null,
   "id": "784cd98d",
   "metadata": {},
   "outputs": [],
   "source": []
  },
  {
   "cell_type": "code",
   "execution_count": null,
   "id": "03141bac",
   "metadata": {},
   "outputs": [],
   "source": []
  },
  {
   "cell_type": "markdown",
   "id": "f0643644",
   "metadata": {},
   "source": [
    "# Deep Learning"
   ]
  },
  {
   "cell_type": "code",
   "execution_count": null,
   "id": "1f4b573a",
   "metadata": {},
   "outputs": [],
   "source": [
    "import torch\n",
    "from torch import nn\n",
    "from torch.utils.data import Dataset, DataLoader\n",
    "\n",
    "\n",
    "# Mapear IDs a índices consecutivos\n",
    "user2idx = {u: i for i, u in enumerate(df['customer_id'].unique())}\n",
    "item2idx = {m: i for i, m in enumerate(df['movie_id'].unique())}\n",
    "df['user_idx'] = df['customer_id'].map(user2idx)\n",
    "df['item_idx'] = df['movie_id'].map(item2idx)\n",
    "\n",
    "# Train/test split\n",
    "train_df, test_df = temporal_train_test_split(df, test_size=0.2)\n"
   ]
  },
  {
   "cell_type": "code",
   "execution_count": null,
   "id": "ba8375ee",
   "metadata": {},
   "outputs": [],
   "source": [
    "class NCF(nn.Module):\n",
    "    def __init__(self, num_users, num_items, emb_size=50):\n",
    "        super().__init__()\n",
    "        self.user_emb = nn.Embedding(num_users, emb_size)\n",
    "        self.item_emb = nn.Embedding(num_items, emb_size)\n",
    "        self.mlp = nn.Sequential(\n",
    "            nn.Linear(emb_size * 2, 128),\n",
    "            nn.ReLU(),\n",
    "            nn.Linear(128, 64),\n",
    "            nn.ReLU(),\n",
    "            nn.Linear(64, 1)\n",
    "        )\n",
    "\n",
    "    def forward(self, user, item):\n",
    "        user_vec = self.user_emb(user)\n",
    "        item_vec = self.item_emb(item)\n",
    "        x = torch.cat([user_vec, item_vec], dim=1)\n",
    "        return self.mlp(x).squeeze()\n"
   ]
  },
  {
   "cell_type": "code",
   "execution_count": null,
   "id": "fc1c5c62",
   "metadata": {},
   "outputs": [],
   "source": [
    "class RatingsDataset(Dataset):\n",
    "    def __init__(self, df):\n",
    "        self.users = torch.tensor(df['user_idx'].values, dtype=torch.long)\n",
    "        self.items = torch.tensor(df['item_idx'].values, dtype=torch.long)\n",
    "        self.ratings = torch.tensor(df['rating'].values, dtype=torch.float32)\n",
    "\n",
    "    def __len__(self):\n",
    "        return len(self.users)\n",
    "\n",
    "    def __getitem__(self, idx):\n",
    "        return self.users[idx], self.items[idx], self.ratings[idx]\n",
    "\n",
    "train_ds = RatingsDataset(train_df)\n",
    "test_ds = RatingsDataset(test_df)\n",
    "\n",
    "train_loader = DataLoader(train_ds, batch_size=1024, shuffle=True)\n",
    "test_loader = DataLoader(test_ds, batch_size=1024)\n",
    "\n",
    "# Entrenar\n",
    "model = NCF(len(user2idx), len(item2idx))\n",
    "optimizer = torch.optim.Adam(model.parameters(), lr=0.001)\n",
    "loss_fn = nn.MSELoss()\n",
    "\n",
    "for epoch in range(5):  # Puedes aumentar esto\n",
    "    model.train()\n",
    "    for u, i, r in train_loader:\n",
    "        pred = model(u, i)\n",
    "        loss = loss_fn(pred, r)\n",
    "        optimizer.zero_grad()\n",
    "        loss.backward()\n",
    "        optimizer.step()\n",
    "    print(f\"Epoch {epoch+1}, Loss: {loss.item():.4f}\")\n"
   ]
  },
  {
   "cell_type": "code",
   "execution_count": null,
   "id": "c3492e11",
   "metadata": {},
   "outputs": [],
   "source": [
    "model.eval()\n",
    "with torch.no_grad():\n",
    "    preds, actuals = [], []\n",
    "    for u, i, r in test_loader:\n",
    "        pred = model(u, i)\n",
    "        preds.extend(pred.numpy())\n",
    "        actuals.extend(r.numpy())\n",
    "\n",
    "rmse = np.sqrt(np.mean((np.array(preds) - np.array(actuals)) ** 2))\n",
    "print(f\"Test RMSE: {rmse:.4f}\")\n"
   ]
  },
  {
   "cell_type": "code",
   "execution_count": null,
   "id": "40450655",
   "metadata": {},
   "outputs": [],
   "source": []
  },
  {
   "cell_type": "code",
   "execution_count": null,
   "id": "ae80706c",
   "metadata": {},
   "outputs": [],
   "source": []
  },
  {
   "cell_type": "code",
   "execution_count": null,
   "id": "b6962936",
   "metadata": {},
   "outputs": [],
   "source": []
  },
  {
   "cell_type": "code",
   "execution_count": null,
   "id": "af1338e8",
   "metadata": {},
   "outputs": [],
   "source": []
  },
  {
   "cell_type": "code",
   "execution_count": null,
   "id": "0614bd37",
   "metadata": {},
   "outputs": [],
   "source": []
  },
  {
   "cell_type": "code",
   "execution_count": null,
   "id": "28030abe",
   "metadata": {},
   "outputs": [],
   "source": []
  },
  {
   "cell_type": "code",
   "execution_count": null,
   "id": "a8ace6ac",
   "metadata": {},
   "outputs": [],
   "source": []
  },
  {
   "cell_type": "code",
   "execution_count": null,
   "id": "5adb7075",
   "metadata": {},
   "outputs": [],
   "source": []
  },
  {
   "cell_type": "code",
   "execution_count": null,
   "id": "4aa2e00d",
   "metadata": {},
   "outputs": [],
   "source": []
  }
 ],
 "metadata": {
  "kernelspec": {
   "display_name": "netflix",
   "language": "python",
   "name": "python3"
  },
  "language_info": {
   "codemirror_mode": {
    "name": "ipython",
    "version": 3
   },
   "file_extension": ".py",
   "mimetype": "text/x-python",
   "name": "python",
   "nbconvert_exporter": "python",
   "pygments_lexer": "ipython3",
   "version": "3.10.16"
  }
 },
 "nbformat": 4,
 "nbformat_minor": 5
}
