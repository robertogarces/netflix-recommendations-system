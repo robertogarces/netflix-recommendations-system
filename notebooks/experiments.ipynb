{
 "cells": [
  {
   "cell_type": "code",
   "execution_count": 1,
   "id": "934f9175",
   "metadata": {},
   "outputs": [],
   "source": [
    "import sys\n",
    "import numpy as np\n",
    "import pandas as pd\n",
    "sys.path.append('../')\n",
    "\n",
    "from config.paths import PROCESSED_DATA_PATH, CONFIG_PATH\n",
    "\n",
    "from utils.data_split import temporal_train_test_split\n",
    "from utils.metrics import get_top_n, precision_recall_at_k\n",
    "from utils.config_loader import load_config\n",
    "\n",
    "from surprise import Dataset, Reader, SVD\n",
    "from surprise.model_selection import train_test_split\n",
    "from surprise import accuracy"
   ]
  },
  {
   "cell_type": "markdown",
   "id": "184478c0",
   "metadata": {},
   "source": [
    "# Load config and data"
   ]
  },
  {
   "cell_type": "code",
   "execution_count": 2,
   "id": "f55f3a86",
   "metadata": {},
   "outputs": [],
   "source": [
    "# Load config\n",
    "config = load_config(CONFIG_PATH / \"settings.yaml\")\n",
    "model_cfg = config[\"model\"]\n",
    "model_features_cfg = config[\"model_features\"]\n",
    "preproc_cfg = config[\"preprocessing\"]\n",
    "svd_hyperparams = config[\"svd_hyperparams\"]"
   ]
  },
  {
   "cell_type": "code",
   "execution_count": 3,
   "id": "4cb5b0e5",
   "metadata": {},
   "outputs": [
    {
     "name": "stdout",
     "output_type": "stream",
     "text": [
      "Using 25.0% of samples (25098582 rows)\n"
     ]
    }
   ],
   "source": [
    "processed_data_path = PROCESSED_DATA_PATH / \"processed_data.parquet\"\n",
    "df = pd.read_parquet(processed_data_path)\n",
    "df = df.iloc[:int(len(df)*model_cfg['data_sample_fraction'])]\n",
    "print(f\"Using {model_cfg['data_sample_fraction']*100}% of samples ({len(df)} rows)\")"
   ]
  },
  {
   "cell_type": "markdown",
   "id": "8d9948e2",
   "metadata": {},
   "source": [
    "# Split train and test"
   ]
  },
  {
   "cell_type": "code",
   "execution_count": 12,
   "id": "757428e4",
   "metadata": {},
   "outputs": [],
   "source": [
    "#train_df, test_df = temporal_train_test_split(df, test_size=model_cfg['test_size'])"
   ]
  },
  {
   "cell_type": "markdown",
   "id": "8006500b",
   "metadata": {},
   "source": [
    "# LightGBM experiment"
   ]
  },
  {
   "cell_type": "code",
   "execution_count": 13,
   "id": "d9c19613",
   "metadata": {},
   "outputs": [
    {
     "name": "stdout",
     "output_type": "stream",
     "text": [
      "RMSE: 1.0005\n"
     ]
    }
   ],
   "source": [
    "import pandas as pd\n",
    "import lightgbm as lgb\n",
    "from sklearn.model_selection import train_test_split\n",
    "from sklearn.preprocessing import LabelEncoder\n",
    "from sklearn.metrics import mean_squared_error\n",
    "\n",
    "\n",
    "# Codificar user_id y movie_id\n",
    "user_enc = LabelEncoder()\n",
    "item_enc = LabelEncoder()\n",
    "df[\"user_idx\"] = user_enc.fit_transform(df[\"customer_id\"])\n",
    "df[\"item_idx\"] = item_enc.fit_transform(df[\"movie_id\"])\n",
    "\n",
    "# Dividir en train/test\n",
    "train, test = train_test_split(df, test_size=0.2, random_state=42)\n",
    "\n",
    "# Features y target\n",
    "X_train = train[[\"user_idx\", \"item_idx\"]]\n",
    "X_test = test[[\"user_idx\", \"item_idx\"]]\n",
    "y_train = train[\"rating\"]\n",
    "y_test = test[\"rating\"]\n",
    "\n",
    "# Convertir a categorias (LightGBM puede usar esto directamente)\n",
    "X_train = X_train.astype(\"category\")\n",
    "X_test = X_test.astype(\"category\")\n",
    "\n",
    "# Crear dataset de LightGBM\n",
    "train_data = lgb.Dataset(X_train, label=y_train)\n",
    "valid_data = lgb.Dataset(X_test, label=y_test)\n",
    "\n",
    "# Entrenar el modelo\n",
    "params = {\n",
    "    \"objective\": \"regression\",\n",
    "    \"metric\": \"rmse\",\n",
    "    \"verbosity\": -1,\n",
    "    \"boosting_type\": \"gbdt\",\n",
    "    \"learning_rate\": 0.1,\n",
    "    \"num_leaves\": 31\n",
    "}\n",
    "\n",
    "model = lgb.train(\n",
    "    params,\n",
    "    train_data,\n",
    "    valid_sets=[train_data, valid_data],\n",
    "    num_boost_round=100,\n",
    ")\n",
    "\n",
    "# Predicción y evaluación\n",
    "y_pred = model.predict(X_test)\n",
    "mse = mean_squared_error(y_test, y_pred)\n",
    "rmse = np.sqrt(mse)\n",
    "print(f\"RMSE: {rmse:.4f}\")"
   ]
  },
  {
   "cell_type": "markdown",
   "id": "ae80706c",
   "metadata": {},
   "source": [
    "---"
   ]
  },
  {
   "cell_type": "markdown",
   "id": "f7085bee",
   "metadata": {},
   "source": [
    "# NCF Models"
   ]
  },
  {
   "cell_type": "code",
   "execution_count": 9,
   "id": "af1338e8",
   "metadata": {},
   "outputs": [
    {
     "name": "stdout",
     "output_type": "stream",
     "text": [
      "Usando dispositivo: mps\n"
     ]
    },
    {
     "name": "stderr",
     "output_type": "stream",
     "text": [
      "Epoch 1/10: 100%|██████████| 4903/4903 [02:55<00:00, 27.92it/s]\n"
     ]
    },
    {
     "name": "stdout",
     "output_type": "stream",
     "text": [
      "Epoch 1: Train MSE 1.5517, Val MSE 0.9780\n"
     ]
    },
    {
     "name": "stderr",
     "output_type": "stream",
     "text": [
      "Epoch 2/10: 100%|██████████| 4903/4903 [02:49<00:00, 28.93it/s]\n"
     ]
    },
    {
     "name": "stdout",
     "output_type": "stream",
     "text": [
      "Epoch 2: Train MSE 0.9900, Val MSE 0.9367\n"
     ]
    },
    {
     "name": "stderr",
     "output_type": "stream",
     "text": [
      "Epoch 3/10: 100%|██████████| 4903/4903 [02:50<00:00, 28.76it/s]\n"
     ]
    },
    {
     "name": "stdout",
     "output_type": "stream",
     "text": [
      "Epoch 3: Train MSE 0.9467, Val MSE 0.9216\n"
     ]
    },
    {
     "name": "stderr",
     "output_type": "stream",
     "text": [
      "Epoch 4/10: 100%|██████████| 4903/4903 [02:58<00:00, 27.44it/s]\n"
     ]
    },
    {
     "name": "stdout",
     "output_type": "stream",
     "text": [
      "Epoch 4: Train MSE 0.9292, Val MSE 0.9171\n"
     ]
    },
    {
     "name": "stderr",
     "output_type": "stream",
     "text": [
      "Epoch 5/10: 100%|██████████| 4903/4903 [02:50<00:00, 28.81it/s]\n"
     ]
    },
    {
     "name": "stdout",
     "output_type": "stream",
     "text": [
      "Epoch 5: Train MSE 0.9158, Val MSE 0.9133\n"
     ]
    },
    {
     "name": "stderr",
     "output_type": "stream",
     "text": [
      "Epoch 6/10: 100%|██████████| 4903/4903 [04:20<00:00, 18.81it/s]  \n"
     ]
    },
    {
     "name": "stdout",
     "output_type": "stream",
     "text": [
      "Epoch 6: Train MSE 0.9126, Val MSE 0.9094\n"
     ]
    },
    {
     "name": "stderr",
     "output_type": "stream",
     "text": [
      "Epoch 7/10: 100%|██████████| 4903/4903 [02:48<00:00, 29.09it/s]\n"
     ]
    },
    {
     "name": "stdout",
     "output_type": "stream",
     "text": [
      "Epoch 7: Train MSE 0.9109, Val MSE 0.9077\n"
     ]
    },
    {
     "name": "stderr",
     "output_type": "stream",
     "text": [
      "Epoch 8/10: 100%|██████████| 4903/4903 [02:49<00:00, 28.89it/s]\n"
     ]
    },
    {
     "name": "stdout",
     "output_type": "stream",
     "text": [
      "Epoch 8: Train MSE 0.9093, Val MSE 0.9044\n"
     ]
    },
    {
     "name": "stderr",
     "output_type": "stream",
     "text": [
      "Epoch 9/10: 100%|██████████| 4903/4903 [02:53<00:00, 28.20it/s]\n"
     ]
    },
    {
     "name": "stdout",
     "output_type": "stream",
     "text": [
      "Epoch 9: Train MSE 0.9063, Val MSE 0.8998\n"
     ]
    },
    {
     "name": "stderr",
     "output_type": "stream",
     "text": [
      "Epoch 10/10: 100%|██████████| 4903/4903 [02:51<00:00, 28.63it/s]\n"
     ]
    },
    {
     "name": "stdout",
     "output_type": "stream",
     "text": [
      "Epoch 10: Train MSE 0.9012, Val MSE 0.8960\n",
      "Test MSE: 0.8960\n"
     ]
    }
   ],
   "source": [
    "import torch\n",
    "from torch import nn\n",
    "from torch.utils.data import Dataset, DataLoader\n",
    "from tqdm import tqdm\n",
    "import pandas as pd\n",
    "import numpy as np\n",
    "\n",
    "# ==== HYPERPARÁMETROS ====\n",
    "EMB_SIZE = 32\n",
    "BATCH_SIZE = 1024\n",
    "EPOCHS = 10\n",
    "LR = 0.001\n",
    "DROPOUT_P = 0.5  # Dropout más agresivo\n",
    "WEIGHT_DECAY = 1e-4  # Más regularización L2\n",
    "\n",
    "# ==== MAPEO Y SPLIT ====\n",
    "user2idx = {u: i for i, u in enumerate(df['customer_id'].unique())}\n",
    "item2idx = {m: i for i, m in enumerate(df['movie_id'].unique())}\n",
    "df['user_idx'] = df['customer_id'].map(user2idx)\n",
    "df['item_idx'] = df['movie_id'].map(item2idx)\n",
    "\n",
    "from sklearn.model_selection import train_test_split\n",
    "train_df, test_df = train_test_split(df, test_size=0.2, shuffle=False)\n",
    "\n",
    "# ==== DATASET ====\n",
    "class RatingsDataset(Dataset):\n",
    "    def __init__(self, df):\n",
    "        self.users = torch.tensor(df['user_idx'].values, dtype=torch.long)\n",
    "        self.items = torch.tensor(df['item_idx'].values, dtype=torch.long)\n",
    "        self.ratings = torch.tensor(df['rating'].values, dtype=torch.float32)\n",
    "\n",
    "    def __len__(self):\n",
    "        return len(self.users)\n",
    "\n",
    "    def __getitem__(self, idx):\n",
    "        return self.users[idx], self.items[idx], self.ratings[idx]\n",
    "\n",
    "train_ds = RatingsDataset(train_df)\n",
    "test_ds = RatingsDataset(test_df)\n",
    "\n",
    "train_loader = DataLoader(train_ds, batch_size=BATCH_SIZE, shuffle=True, num_workers=0)\n",
    "test_loader = DataLoader(test_ds, batch_size=BATCH_SIZE, num_workers=0)\n",
    "\n",
    "# ==== MODELO CON DROPOUT Y REGULARIZACIÓN ====\n",
    "\n",
    "class NCF(nn.Module):\n",
    "    def __init__(self, num_users, num_items, emb_size=EMB_SIZE):\n",
    "        super().__init__()\n",
    "        self.user_emb = nn.Embedding(num_users, emb_size)\n",
    "        self.item_emb = nn.Embedding(num_items, emb_size)\n",
    "        self.mlp = nn.Sequential(\n",
    "            nn.Linear(emb_size * 2, 64),  # capas más pequeñas\n",
    "            nn.ReLU(),\n",
    "            nn.Dropout(DROPOUT_P),\n",
    "            nn.Linear(64, 32),\n",
    "            nn.ReLU(),\n",
    "            nn.Dropout(DROPOUT_P),\n",
    "            nn.Linear(32, 1)\n",
    "        )\n",
    "\n",
    "    def forward(self, user, item):\n",
    "        user_vec = self.user_emb(user)\n",
    "        item_vec = self.item_emb(item)\n",
    "        x = torch.cat([user_vec, item_vec], dim=1)\n",
    "        return self.mlp(x).squeeze()\n",
    "\n",
    "model = NCF(len(user2idx), len(item2idx)).to(device)\n",
    "optimizer = torch.optim.Adam(model.parameters(), lr=LR, weight_decay=WEIGHT_DECAY)\n",
    "\n",
    "\n",
    "# ==== ENTRENAMIENTO ====\n",
    "device = torch.device(\"mps\" if torch.backends.mps.is_available() else \"cuda\" if torch.cuda.is_available() else \"cpu\")\n",
    "print(f\"Usando dispositivo: {device}\")\n",
    "\n",
    "model = NCF(len(user2idx), len(item2idx)).to(device)\n",
    "optimizer = torch.optim.Adam(model.parameters(), lr=LR, weight_decay=WEIGHT_DECAY)\n",
    "loss_fn = nn.MSELoss()\n",
    "\n",
    "best_val_loss = float('inf')\n",
    "patience = 3\n",
    "counter = 0\n",
    "\n",
    "for epoch in range(EPOCHS):\n",
    "    model.train()\n",
    "    total_loss = 0\n",
    "    for u, i, r in tqdm(train_loader, desc=f\"Epoch {epoch+1}/{EPOCHS}\"):\n",
    "        u, i, r = u.to(device), i.to(device), r.to(device)\n",
    "        pred = model(u, i)\n",
    "        loss = loss_fn(pred, r)\n",
    "        optimizer.zero_grad()\n",
    "        loss.backward()\n",
    "        optimizer.step()\n",
    "        total_loss += loss.item() * len(r)\n",
    "    avg_train_loss = total_loss / len(train_loader.dataset)\n",
    "\n",
    "    model.eval()\n",
    "    val_loss = 0\n",
    "    with torch.no_grad():\n",
    "        for u, i, r in test_loader:\n",
    "            u, i, r = u.to(device), i.to(device), r.to(device)\n",
    "            pred = model(u, i)\n",
    "            loss = loss_fn(pred, r)\n",
    "            val_loss += loss.item() * len(r)\n",
    "    avg_val_loss = val_loss / len(test_loader.dataset)\n",
    "\n",
    "    print(f\"Epoch {epoch+1}: Train MSE {avg_train_loss:.4f}, Val MSE {avg_val_loss:.4f}\")\n",
    "\n",
    "    if avg_val_loss < best_val_loss:\n",
    "        best_val_loss = avg_val_loss\n",
    "        counter = 0\n",
    "        torch.save(model.state_dict(), \"best_model.pt\")  # Guarda el mejor modelo\n",
    "    else:\n",
    "        counter += 1\n",
    "        if counter >= patience:\n",
    "            print(\"Early stopping activado\")\n",
    "            break\n",
    "\n",
    "\n",
    "# ==== EVALUACIÓN ====\n",
    "model.eval()\n",
    "with torch.no_grad():\n",
    "    total_loss = 0\n",
    "    for u, i, r in test_loader:\n",
    "        u, i, r = u.to(device), i.to(device), r.to(device)\n",
    "        pred = model(u, i)\n",
    "        loss = loss_fn(pred, r)\n",
    "        total_loss += loss.item() * len(r)\n",
    "    test_mse = total_loss / len(test_loader.dataset)\n",
    "    print(f\"Test MSE: {test_mse:.4f}\")\n"
   ]
  },
  {
   "cell_type": "code",
   "execution_count": null,
   "id": "0614bd37",
   "metadata": {},
   "outputs": [],
   "source": []
  },
  {
   "cell_type": "code",
   "execution_count": null,
   "id": "28030abe",
   "metadata": {},
   "outputs": [],
   "source": []
  },
  {
   "cell_type": "code",
   "execution_count": null,
   "id": "a8ace6ac",
   "metadata": {},
   "outputs": [],
   "source": []
  },
  {
   "cell_type": "code",
   "execution_count": null,
   "id": "5adb7075",
   "metadata": {},
   "outputs": [],
   "source": []
  },
  {
   "cell_type": "code",
   "execution_count": null,
   "id": "4aa2e00d",
   "metadata": {},
   "outputs": [],
   "source": []
  }
 ],
 "metadata": {
  "kernelspec": {
   "display_name": "netflix",
   "language": "python",
   "name": "python3"
  },
  "language_info": {
   "codemirror_mode": {
    "name": "ipython",
    "version": 3
   },
   "file_extension": ".py",
   "mimetype": "text/x-python",
   "name": "python",
   "nbconvert_exporter": "python",
   "pygments_lexer": "ipython3",
   "version": "3.10.16"
  }
 },
 "nbformat": 4,
 "nbformat_minor": 5
}
