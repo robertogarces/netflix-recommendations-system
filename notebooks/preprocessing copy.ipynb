{
 "cells": [
  {
   "cell_type": "code",
   "execution_count": 1,
   "id": "804eb824",
   "metadata": {},
   "outputs": [],
   "source": [
    "import sys\n",
    "import numpy as np\n",
    "import pandas as pd\n",
    "sys.path.append('../')\n",
    "\n",
    "from config.paths import RAW_DATA_PATH, PROCESSED_DATA_PATH\n",
    "from utils.files_management import fix_csv_with_commas_in_text, load_netflix_data, load_multiple_netflix_files\n",
    "from utils.data_processing import filter_sparse_users_and_movies, filter_valid_ratings, convert_columns_to_string\n",
    "from utils.data_split import temporal_train_test_split"
   ]
  },
  {
   "cell_type": "code",
   "execution_count": 2,
   "id": "c3f77a3b",
   "metadata": {},
   "outputs": [],
   "source": [
    "combined_data_1_path = RAW_DATA_PATH / \"combined_data_1.txt\"\n",
    "combined_data_2_path = RAW_DATA_PATH / \"combined_data_2.txt\"\n",
    "combined_data_3_path = RAW_DATA_PATH / \"combined_data_3.txt\"\n",
    "combined_data_4_path = RAW_DATA_PATH / \"combined_data_4.txt\"\n",
    "\n",
    "combined_data_path_list = [combined_data_1_path, combined_data_2_path, combined_data_3_path, combined_data_4_path]\n",
    "\n",
    "concatenated_data = RAW_DATA_PATH / \"data.parquet\"\n",
    "\n",
    "movie_titles_path = RAW_DATA_PATH / \"movie_titles.csv\"\n",
    "movie_titles_fixed_path = RAW_DATA_PATH / \"movie_titles_fixed.csv\""
   ]
  },
  {
   "cell_type": "code",
   "execution_count": 3,
   "id": "2b43ad05",
   "metadata": {},
   "outputs": [],
   "source": [
    "df = pd.read_parquet(concatenated_data)"
   ]
  },
  {
   "cell_type": "markdown",
   "id": "988417a6",
   "metadata": {},
   "source": [
    "# Preprocessing"
   ]
  },
  {
   "cell_type": "code",
   "execution_count": null,
   "id": "065265cc",
   "metadata": {},
   "outputs": [],
   "source": [
    "#36.1 s\n",
    "#57.7 s\n",
    "df = convert_columns_to_string(df, ['customer_id', 'movie_id'])"
   ]
  },
  {
   "cell_type": "code",
   "execution_count": null,
   "id": "19a124aa",
   "metadata": {},
   "outputs": [],
   "source": [
    "# 3m 9.1s\n",
    "# 3m 17s\n",
    "def filter_valid_ratings(\n",
    "    df: pd.DataFrame,\n",
    "    min_rating: int =1, \n",
    "    max_rating: int =5\n",
    "    ) -> pd.DataFrame:\n",
    "    \"\"\"\n",
    "    Quickly filter a DataFrame to keep only rows where 'rating' is between 1 and 5 inclusive.\n",
    "\n",
    "    Parameters:\n",
    "        df (pd.DataFrame): Input DataFrame with a 'rating' column.\n",
    "\n",
    "    Returns:\n",
    "        pd.DataFrame: Filtered DataFrame.\n",
    "    \"\"\"\n",
    "    return df[df['rating'].between(min_rating, max_rating)]\n",
    "\n",
    "# All the ratings are suposed to be in between 1-5\n",
    "min_rating = 1\n",
    "max_rating = 5\n",
    "df = filter_valid_ratings(df, min_rating=min_rating, max_rating=max_rating)"
   ]
  },
  {
   "cell_type": "code",
   "execution_count": null,
   "id": "9a10463e",
   "metadata": {},
   "outputs": [],
   "source": [
    "def filter_sparse_users_and_movies(\n",
    "    df: pd.DataFrame, \n",
    "    min_movie_ratings: int = 50, \n",
    "    min_user_ratings: int = 10\n",
    "    ) -> pd.DataFrame:\n",
    "    \"\"\"\n",
    "    Filters out movies and users with very few ratings to reduce noise.\n",
    "\n",
    "    Parameters:\n",
    "        df (pd.DataFrame): The original ratings DataFrame. Must contain 'movie_id' and 'customer_id' columns.\n",
    "        min_movie_ratings (int): Minimum number of ratings required for a movie to be kept.\n",
    "        min_user_ratings (int): Minimum number of ratings required for a user to be kept.\n",
    "\n",
    "    Returns:\n",
    "        pd.DataFrame: Filtered DataFrame with less sparse movies and users.\n",
    "    \"\"\"\n",
    "    # Convert columns to NumPy arrays for faster processing\n",
    "    movie_ids = df['movie_id'].values\n",
    "    user_ids = df['customer_id'].values\n",
    "\n",
    "    # Get counts using NumPy (faster than pandas.value_counts)\n",
    "    movie_unique, movie_counts = np.unique(movie_ids, return_counts=True)\n",
    "    user_unique, user_counts = np.unique(user_ids, return_counts=True)\n",
    "\n",
    "    # Create sets of allowed IDs for fast lookup\n",
    "    valid_movies = set(movie_unique[movie_counts >= min_movie_ratings])\n",
    "    valid_users = set(user_unique[user_counts >= min_user_ratings])\n",
    "\n",
    "    # Use NumPy boolean indexing\n",
    "    mask = np.isin(movie_ids, list(valid_movies)) & np.isin(user_ids, list(valid_users))\n",
    "    return df[mask]\n",
    "\n",
    "\n",
    "min_movie_ratings = 50\n",
    "min_user_ratings = 10\n",
    "df = filter_sparse_users_and_movies(df, min_movie_ratings=min_movie_ratings, min_user_ratings=min_user_ratings)"
   ]
  },
  {
   "cell_type": "code",
   "execution_count": null,
   "id": "9ad05564",
   "metadata": {},
   "outputs": [],
   "source": [
    "# 3m 47.5s\n",
    "\n",
    "def filter_sparse_users_and_movies(\n",
    "    df: pd.DataFrame,\n",
    "    min_movie_ratings: int = 50,\n",
    "    min_user_ratings: int = 10\n",
    ") -> pd.DataFrame:\n",
    "    \"\"\"\n",
    "    Filters out movies and users with very few ratings to reduce noise.\n",
    "\n",
    "    Returns:\n",
    "        pd.DataFrame: Filtered DataFrame.\n",
    "    \"\"\"\n",
    "    # Count movie ratings\n",
    "    movie_counts = df['movie_id'].value_counts()\n",
    "    valid_movies = movie_counts.index[movie_counts >= min_movie_ratings]\n",
    "\n",
    "    # Filter once by movies\n",
    "    df = df[df['movie_id'].isin(valid_movies)]\n",
    "\n",
    "    # Count user ratings on the filtered set\n",
    "    user_counts = df['customer_id'].value_counts()\n",
    "    valid_users = user_counts.index[user_counts >= min_user_ratings]\n",
    "\n",
    "    # Final filter by users\n",
    "    df = df[df['customer_id'].isin(valid_users)]\n",
    "\n",
    "    return df\n",
    "\n",
    "min_movie_ratings = 50\n",
    "min_user_ratings = 10\n",
    "df = filter_sparse_users_and_movies(df, min_movie_ratings=min_movie_ratings, min_user_ratings=min_user_ratings)"
   ]
  },
  {
   "cell_type": "code",
   "execution_count": 11,
   "id": "0379fd32",
   "metadata": {},
   "outputs": [],
   "source": [
    "processed_data_path = PROCESSED_DATA_PATH / \"processed_data1.parquet\"\n",
    "df.to_parquet(processed_data_path)"
   ]
  },
  {
   "cell_type": "code",
   "execution_count": null,
   "id": "cedf6d5e",
   "metadata": {},
   "outputs": [],
   "source": []
  },
  {
   "cell_type": "code",
   "execution_count": null,
   "id": "ff1c4ad4",
   "metadata": {},
   "outputs": [],
   "source": []
  }
 ],
 "metadata": {
  "kernelspec": {
   "display_name": "netflix",
   "language": "python",
   "name": "python3"
  },
  "language_info": {
   "codemirror_mode": {
    "name": "ipython",
    "version": 3
   },
   "file_extension": ".py",
   "mimetype": "text/x-python",
   "name": "python",
   "nbconvert_exporter": "python",
   "pygments_lexer": "ipython3",
   "version": "3.10.16"
  }
 },
 "nbformat": 4,
 "nbformat_minor": 5
}
