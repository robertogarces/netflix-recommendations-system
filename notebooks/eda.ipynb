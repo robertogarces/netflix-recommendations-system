{
 "cells": [
  {
   "cell_type": "code",
   "execution_count": 1,
   "id": "29c7221b",
   "metadata": {},
   "outputs": [],
   "source": [
    "import sys\n",
    "import numpy as np\n",
    "import pandas as pd\n",
    "import matplotlib.pyplot as plt\n",
    "\n",
    "sys.path.append('../')\n",
    "\n",
    "from config.paths import RAW_DATA_PATH, PROCESSED_DATA_PATH"
   ]
  },
  {
   "cell_type": "code",
   "execution_count": 2,
   "id": "2484df22",
   "metadata": {},
   "outputs": [],
   "source": [
    "processed_data_path = PROCESSED_DATA_PATH / \"processed_data.parquet\"\n",
    "df = pd.read_parquet(processed_data_path)\n",
    "movie_titles_path = RAW_DATA_PATH / \"movie_titles_fixed.csv\"\n",
    "movie_titles = pd.read_csv(movie_titles_path, sep=';', encoding='latin1', header=None, names=['id', 'year', 'title'])"
   ]
  },
  {
   "cell_type": "code",
   "execution_count": 3,
   "id": "747bf2c7",
   "metadata": {},
   "outputs": [
    {
     "data": {
      "image/png": "[encoded data removed]",
      "text/plain": [
       "<Figure size 800x500 with 1 Axes>"
      ]
     },
     "metadata": {},
     "output_type": "display_data"
    }
   ],
   "source": [
    "rating_dist = df['rating'].value_counts(normalize=True).sort_index()\n",
    "\n",
    "plt.figure(figsize=(8,5))\n",
    "plt.bar(rating_dist.index, rating_dist.values, color='skyblue')\n",
    "plt.xlabel('Rating')\n",
    "plt.ylabel('Proportion')\n",
    "plt.title('Distribution of Ratings')\n",
    "plt.xticks(rating_dist.index) \n",
    "plt.show()"
   ]
  },
  {
   "cell_type": "code",
   "execution_count": 4,
   "id": "2bdcf954",
   "metadata": {},
   "outputs": [
    {
     "name": "stdout",
     "output_type": "stream",
     "text": [
      "Number of distinct movies: 17713\n",
      "Number of distinct users:  463770\n"
     ]
    }
   ],
   "source": [
    "print(f\"Number of distinct movies: {df['movie_id'].nunique()}\")\n",
    "print(f\"Number of distinct users:  {df['customer_id'].nunique()}\")"
   ]
  },
  {
   "cell_type": "code",
   "execution_count": 5,
   "id": "942f795a",
   "metadata": {},
   "outputs": [
    {
     "data": {
      "text/plain": [
       "count     17713.000000\n",
       "mean       5667.833286\n",
       "std       16918.737236\n",
       "min          50.000000\n",
       "25%         193.000000\n",
       "50%         566.000000\n",
       "75%        2681.000000\n",
       "max      232659.000000\n",
       "Name: rating, dtype: float64"
      ]
     },
     "execution_count": 5,
     "metadata": {},
     "output_type": "execute_result"
    }
   ],
   "source": [
    "ratings_per_movie = df.groupby('movie_id')['rating'].count()\n",
    "ratings_per_movie.describe()"
   ]
  },
  {
   "cell_type": "code",
   "execution_count": 6,
   "id": "d8745d7a",
   "metadata": {},
   "outputs": [
    {
     "name": "stdout",
     "output_type": "stream",
     "text": [
      "Best rated movies: \n",
      "movie_id\n",
      "14961    4.723445\n",
      "7230     4.716644\n",
      "7057     4.702672\n",
      "3456     4.670846\n",
      "9864     4.644097\n",
      "15538    4.605052\n",
      "10464    4.595506\n",
      "14791    4.594595\n",
      "14550    4.593358\n",
      "12398    4.591572\n",
      "Name: rating, dtype: float64\n",
      "\\Worst rated movies: \n",
      "movie_id\n",
      "515      1.287879\n",
      "16487    1.347222\n",
      "11768    1.375610\n",
      "17429    1.396761\n",
      "3575     1.400000\n",
      "17577    1.400000\n",
      "8069     1.422222\n",
      "2426     1.457831\n",
      "4202     1.487395\n",
      "1227     1.496241\n",
      "Name: rating, dtype: float64\n"
     ]
    }
   ],
   "source": [
    "avg_rating_per_movie = df.groupby('movie_id')['rating'].mean()\n",
    "best_rated_movies = avg_rating_per_movie.sort_values(ascending=False).head(10)\n",
    "worst_rated_movies = avg_rating_per_movie.sort_values().head(10)\n",
    "print(f\"Best rated movies: \\n{best_rated_movies}\")\n",
    "print(f\"\\Worst rated movies: \\n{worst_rated_movies}\")"
   ]
  },
  {
   "cell_type": "code",
   "execution_count": 7,
   "id": "2172da42",
   "metadata": {},
   "outputs": [
    {
     "name": "stdout",
     "output_type": "stream",
     "text": [
      "Most rated movies: \n",
      "movie_id\n",
      "5317     232659\n",
      "15124    216242\n",
      "14313    200596\n",
      "15205    195964\n",
      "1905     193711\n",
      "6287     193105\n",
      "11283    181432\n",
      "16377    181308\n",
      "16242    177856\n",
      "12470    177380\n",
      "Name: rating, dtype: int64\n",
      "\n",
      "Least rated movies: \n",
      "movie_id\n",
      "10840    50\n",
      "15202    50\n",
      "6074     51\n",
      "5260     52\n",
      "4035     52\n",
      "16996    53\n",
      "10640    53\n",
      "10578    53\n",
      "9566     54\n",
      "1858     54\n",
      "Name: rating, dtype: int64\n"
     ]
    }
   ],
   "source": [
    "most_rated_movies = ratings_per_movie.sort_values(ascending=False).head(10)\n",
    "least_rated_movies = ratings_per_movie.sort_values().head(10)\n",
    "print(f\"Most rated movies: \\n{most_rated_movies}\")\n",
    "print(f\"\\nLeast rated movies: \\n{least_rated_movies}\")"
   ]
  },
  {
   "cell_type": "code",
   "execution_count": null,
   "id": "dcbcc03c",
   "metadata": {},
   "outputs": [],
   "source": []
  },
  {
   "cell_type": "code",
   "execution_count": null,
   "id": "8683fd84",
   "metadata": {},
   "outputs": [],
   "source": []
  }
 ],
 "metadata": {
  "kernelspec": {
   "display_name": "netflix",
   "language": "python",
   "name": "python3"
  },
  "language_info": {
   "codemirror_mode": {
    "name": "ipython",
    "version": 3
   },
   "file_extension": ".py",
   "mimetype": "text/x-python",
   "name": "python",
   "nbconvert_exporter": "python",
   "pygments_lexer": "ipython3",
   "version": "3.10.16"
  }
 },
 "nbformat": 4,
 "nbformat_minor": 5
}
