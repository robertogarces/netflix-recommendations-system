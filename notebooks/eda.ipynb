{
 "cells": [
  {
   "cell_type": "code",
   "execution_count": null,
   "id": "29c7221b",
   "metadata": {},
   "outputs": [],
   "source": [
    "import sys\n",
    "import numpy as np\n",
    "import pandas as pd\n",
    "import matplotlib.pyplot as plt\n",
    "\n",
    "sys.path.append('../')\n",
    "\n",
    "from config.paths import PROCESSED_DATA_PATH"
   ]
  },
  {
   "cell_type": "code",
   "execution_count": null,
   "id": "2484df22",
   "metadata": {},
   "outputs": [],
   "source": [
    "processed_data_path = PROCESSED_DATA_PATH / \"processed_data.parquet\"\n",
    "df = pd.read_parquet(processed_data_path)\n",
    "movie_titles_path = RAW_DATA_PATH / \"movie_titles_fixed.csv\"\n",
    "movie_titles = pd.read_csv(movie_titles_path, sep=';', encoding='latin1', header=None, names=['id', 'year', 'title'])"
   ]
  },
  {
   "cell_type": "code",
   "execution_count": null,
   "id": "747bf2c7",
   "metadata": {},
   "outputs": [],
   "source": [
    "rating_dist = df['rating'].value_counts(normalize=True).sort_index()\n",
    "\n",
    "plt.figure(figsize=(8,5))\n",
    "plt.bar(rating_dist.index, rating_dist.values, color='skyblue')\n",
    "plt.xlabel('Rating')\n",
    "plt.ylabel('Proportion')\n",
    "plt.title('Distribution of Ratings')\n",
    "plt.xticks(rating_dist.index) \n",
    "plt.show()"
   ]
  },
  {
   "cell_type": "code",
   "execution_count": null,
   "id": "2bdcf954",
   "metadata": {},
   "outputs": [],
   "source": [
    "print(f\"Number of distinct movies: {df['movie_id'].nunique()}\")\n",
    "print(f\"Number of distinct users:  {df['customer_id'].nunique()}\")"
   ]
  },
  {
   "cell_type": "code",
   "execution_count": null,
   "id": "942f795a",
   "metadata": {},
   "outputs": [],
   "source": [
    "ratings_per_movie = df.groupby('movie_id')['rating'].count()\n",
    "ratings_per_movie.describe()"
   ]
  },
  {
   "cell_type": "code",
   "execution_count": null,
   "id": "d8745d7a",
   "metadata": {},
   "outputs": [],
   "source": [
    "avg_rating_per_movie = df.groupby('movie_id')['rating'].mean()\n",
    "best_rated_movies = avg_rating_per_movie.sort_values(ascending=False).head(10)\n",
    "worst_rated_movies = avg_rating_per_movie.sort_values().head(10)\n",
    "print(f\"Best rated movies: \\n{best_rated_movies}\")\n",
    "print(f\"\\Worst rated movies: \\n{worst_rated_movies}\")"
   ]
  },
  {
   "cell_type": "code",
   "execution_count": null,
   "id": "2172da42",
   "metadata": {},
   "outputs": [],
   "source": [
    "most_rated_movies = ratings_per_movie.sort_values(ascending=False).head(10)\n",
    "least_rated_movies = ratings_per_movie.sort_values().head(10)\n",
    "print(f\"Most rated movies: \\n{most_rated_movies}\")\n",
    "print(f\"\\nLeast rated movies: \\n{least_rated_movies}\")"
   ]
  },
  {
   "cell_type": "code",
   "execution_count": null,
   "id": "dcbcc03c",
   "metadata": {},
   "outputs": [],
   "source": []
  },
  {
   "cell_type": "code",
   "execution_count": null,
   "id": "8683fd84",
   "metadata": {},
   "outputs": [],
   "source": []
  }
 ],
 "metadata": {
  "kernelspec": {
   "display_name": "netflix",
   "language": "python",
   "name": "python3"
  },
  "language_info": {
   "codemirror_mode": {
    "name": "ipython",
    "version": 3
   },
   "file_extension": ".py",
   "mimetype": "text/x-python",
   "name": "python",
   "nbconvert_exporter": "python",
   "pygments_lexer": "ipython3",
   "version": "3.10.16"
  }
 },
 "nbformat": 4,
 "nbformat_minor": 5
}
