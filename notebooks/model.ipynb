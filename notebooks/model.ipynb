{
 "cells": [
  {
   "cell_type": "code",
   "execution_count": null,
   "id": "2596bc44",
   "metadata": {},
   "outputs": [],
   "source": [
    "import sys\n",
    "import numpy as np\n",
    "import pandas as pd\n",
    "sys.path.append('../')\n",
    "\n",
    "from config.paths import PROCESSED_DATA_PATH, CONFIG_PATH\n",
    "\n",
    "from utils.data_split import temporal_train_test_split\n",
    "from utils.metrics import get_top_n, precision_recall_at_k\n",
    "from utils.config_loader import load_config\n",
    "\n",
    "from surprise import Dataset, Reader, SVD\n",
    "from surprise.model_selection import train_test_split\n",
    "from surprise import accuracy\n",
    "\n",
    "import optuna\n"
   ]
  },
  {
   "cell_type": "code",
   "execution_count": null,
   "id": "752dc06e",
   "metadata": {},
   "outputs": [],
   "source": [
    "# Load config\n",
    "config = load_config(CONFIG_PATH / \"settings.yaml\")\n",
    "model_cfg = config[\"model\"]\n",
    "model_features_cfg = config[\"model_features\"]\n",
    "preproc_cfg = config[\"preprocessing\"]\n",
    "svd_hyperparams = config[\"svd_hyperparams\"]"
   ]
  },
  {
   "cell_type": "code",
   "execution_count": null,
   "id": "1b35054f",
   "metadata": {},
   "outputs": [],
   "source": [
    "processed_data_path = PROCESSED_DATA_PATH / \"processed_data.parquet\"\n",
    "data = pd.read_parquet(processed_data_path)"
   ]
  },
  {
   "cell_type": "code",
   "execution_count": null,
   "id": "8ceba745",
   "metadata": {},
   "outputs": [],
   "source": [
    "df = data.iloc[:int(len(data)*model_cfg['data_sample_fraction'])]\n",
    "print(f\"Using {model_cfg['data_sample_fraction']*100}% of samples ({len(df)} rows)\")"
   ]
  },
  {
   "cell_type": "markdown",
   "id": "2b5cf47d",
   "metadata": {},
   "source": [
    "# Train Test Split"
   ]
  },
  {
   "cell_type": "code",
   "execution_count": null,
   "id": "3c91e004",
   "metadata": {},
   "outputs": [],
   "source": [
    "train_df, test_df = temporal_train_test_split(df, test_size=model_cfg['test_size'])"
   ]
  },
  {
   "cell_type": "markdown",
   "id": "56e23449",
   "metadata": {},
   "source": [
    "# Model"
   ]
  },
  {
   "cell_type": "code",
   "execution_count": null,
   "id": "25327246",
   "metadata": {},
   "outputs": [],
   "source": [
    "# Define data format\n",
    "model_features_list = [model_features_cfg['user'], model_features_cfg['item'], model_features_cfg['rating']]\n",
    "\n",
    "reader = Reader(rating_scale=(preproc_cfg['min_rating'], preproc_cfg['max_rating']))\n",
    "data = Dataset.load_from_df(train_df[model_features_list], reader)\n",
    "\n",
    "# Split train and testing\n",
    "trainset = data.build_full_trainset()\n",
    "testset = list(zip(test_df[model_features_cfg['user']], test_df[model_features_cfg['item']], test_df[model_features_cfg['rating']]))\n",
    "\n",
    "# Train the model\n",
    "model = SVD()\n",
    "model.fit(trainset)"
   ]
  },
  {
   "cell_type": "markdown",
   "id": "047dbf3f",
   "metadata": {},
   "source": [
    "# Evaluation"
   ]
  },
  {
   "cell_type": "code",
   "execution_count": null,
   "id": "65c88992",
   "metadata": {},
   "outputs": [],
   "source": [
    "predictions = model.test(testset)\n",
    "rmse = accuracy.rmse(predictions)"
   ]
  },
  {
   "cell_type": "code",
   "execution_count": null,
   "id": "5adc8b49",
   "metadata": {},
   "outputs": [],
   "source": [
    "# Get top-N predictions\n",
    "top_n = get_top_n(predictions, n=model_cfg['top_n'])\n",
    "\n",
    "# Calculate precision and recall\n",
    "precision, recall = precision_recall_at_k(predictions, k=model_cfg['top_n'], threshold=model_cfg['threshold'])\n",
    "\n",
    "print(f\"Precision@10: {precision:.4f}\")\n",
    "print(f\"Recall@10: {recall:.4f}\")\n"
   ]
  },
  {
   "cell_type": "markdown",
   "id": "11583772",
   "metadata": {},
   "source": [
    "# Optimized model"
   ]
  },
  {
   "cell_type": "code",
   "execution_count": null,
   "id": "253da98b",
   "metadata": {},
   "outputs": [],
   "source": [
    "import optuna\n",
    "from surprise import SVD, accuracy\n",
    "\n",
    "def objective(trial, config):\n",
    "    n_factors = trial.suggest_int('n_factors', config['n_factors_min'], config['n_factors_max'])\n",
    "    n_epochs = trial.suggest_int('n_epochs', config['n_epochs_min'], config['n_epochs_max'])\n",
    "    lr_all = trial.suggest_float('lr_all', config['lr_all_min'], config['lr_all_max'], log=True)\n",
    "    reg_all = trial.suggest_float('reg_all', config['reg_all_min'], config['reg_all_max'], log=True)\n",
    "\n",
    "    params = {\n",
    "        'n_factors': n_factors,\n",
    "        'n_epochs': n_epochs,\n",
    "        'lr_all': lr_all,\n",
    "        'reg_all': reg_all\n",
    "    }\n",
    "\n",
    "    model = SVD(**params)\n",
    "    model.fit(trainset)\n",
    "    preds = model.test(testset)\n",
    "    rmse = accuracy.rmse(preds, verbose=False)\n",
    "    \n",
    "    return rmse\n",
    "\n",
    "study = optuna.create_study(direction='minimize')\n",
    "study.optimize(lambda trial: objective(trial, svd_hyperparams), n_trials=model_cfg['n_trials'])\n",
    "\n",
    "print(\"Best RMSE:\", study.best_value)\n",
    "print(\"Best params:\", study.best_params)\n"
   ]
  },
  {
   "cell_type": "code",
   "execution_count": null,
   "id": "d2c85a85",
   "metadata": {},
   "outputs": [],
   "source": [
    "best_params = study.best_params\n",
    "final_model = SVD(**best_params)\n",
    "final_model.fit(trainset)"
   ]
  },
  {
   "cell_type": "code",
   "execution_count": null,
   "id": "e79328ad",
   "metadata": {},
   "outputs": [],
   "source": [
    "predictions = final_model.test(testset)\n",
    "# Get top-N predictions\n",
    "top_n = get_top_n(predictions, n=model_cfg['top_n'])\n",
    "\n",
    "# Calculate precision and recall\n",
    "precision, recall = precision_recall_at_k(predictions, k=model_cfg['top_n'], threshold=model_cfg['threshold'])\n",
    "\n",
    "print(f\"Precision@10: {precision:.4f}\")\n",
    "print(f\"Recall@10: {recall:.4f}\")"
   ]
  },
  {
   "cell_type": "code",
   "execution_count": null,
   "id": "457406a5",
   "metadata": {},
   "outputs": [],
   "source": []
  }
 ],
 "metadata": {
  "kernelspec": {
   "display_name": "netflix",
   "language": "python",
   "name": "python3"
  },
  "language_info": {
   "codemirror_mode": {
    "name": "ipython",
    "version": 3
   },
   "file_extension": ".py",
   "mimetype": "text/x-python",
   "name": "python",
   "nbconvert_exporter": "python",
   "pygments_lexer": "ipython3",
   "version": "3.10.16"
  }
 },
 "nbformat": 4,
 "nbformat_minor": 5
}
