{
 "cells": [
  {
   "cell_type": "code",
   "execution_count": null,
   "id": "2596bc44",
   "metadata": {},
   "outputs": [],
   "source": [
    "import sys\n",
    "import numpy as np\n",
    "import pandas as pd\n",
    "sys.path.append('../')\n",
    "\n",
    "from config.paths import PROCESSED_DATA_PATH\n",
    "\n",
    "from config.paths import PROCESSED_DATA_PATH\n",
    "from utils.data_split import temporal_train_test_split\n",
    "\n",
    "from surprise import Dataset, Reader, SVD\n",
    "from surprise.model_selection import train_test_split\n",
    "from surprise import accuracy\n"
   ]
  },
  {
   "cell_type": "code",
   "execution_count": null,
   "id": "1b35054f",
   "metadata": {},
   "outputs": [],
   "source": [
    "processed_data_path = PROCESSED_DATA_PATH / \"processed_data.parquet\"\n",
    "df = pd.read_parquet(processed_data_path)"
   ]
  },
  {
   "cell_type": "markdown",
   "id": "2b5cf47d",
   "metadata": {},
   "source": [
    "# Train Test Split"
   ]
  },
  {
   "cell_type": "code",
   "execution_count": null,
   "id": "3c91e004",
   "metadata": {},
   "outputs": [],
   "source": [
    "test_size = 0.2\n",
    "train_df, test_df = temporal_train_test_split(df, test_size=test_size)"
   ]
  },
  {
   "cell_type": "markdown",
   "id": "56e23449",
   "metadata": {},
   "source": [
    "# Model"
   ]
  },
  {
   "cell_type": "code",
   "execution_count": null,
   "id": "25327246",
   "metadata": {},
   "outputs": [],
   "source": [
    "# 1. Define el formato de los datos\n",
    "reader = Reader(rating_scale=(1, 5))\n",
    "data = Dataset.load_from_df(train_df[['customer_id', 'movie_id', 'rating']], reader)\n",
    "\n",
    "# 2. Divide en train/test (aquí podrías usar tu test original también)\n",
    "trainset = data.build_full_trainset()\n",
    "testset = list(zip(test_df['customer_id'], test_df['movie_id'], test_df['rating']))\n",
    "\n",
    "# 3. Entrena el modelo\n",
    "model = SVD()\n",
    "model.fit(trainset)\n",
    "\n",
    "# 4. Evalúa\n",
    "predictions = model.test(testset)\n",
    "rmse = accuracy.rmse(predictions)\n"
   ]
  },
  {
   "cell_type": "code",
   "execution_count": null,
   "id": "65c88992",
   "metadata": {},
   "outputs": [],
   "source": []
  },
  {
   "cell_type": "code",
   "execution_count": null,
   "id": "7dc135c1",
   "metadata": {},
   "outputs": [],
   "source": []
  },
  {
   "cell_type": "code",
   "execution_count": null,
   "id": "5d38f8cb",
   "metadata": {},
   "outputs": [],
   "source": []
  }
 ],
 "metadata": {
  "kernelspec": {
   "display_name": "netflix",
   "language": "python",
   "name": "python3"
  },
  "language_info": {
   "codemirror_mode": {
    "name": "ipython",
    "version": 3
   },
   "file_extension": ".py",
   "mimetype": "text/x-python",
   "name": "python",
   "nbconvert_exporter": "python",
   "pygments_lexer": "ipython3",
   "version": "3.10.16"
  }
 },
 "nbformat": 4,
 "nbformat_minor": 5
}
